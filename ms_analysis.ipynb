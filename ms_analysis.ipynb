{
 "cells": [
  {
   "cell_type": "code",
   "execution_count": 1,
   "id": "5d0d397d",
   "metadata": {
    "_cell_guid": "b1076dfc-b9ad-4769-8c92-a6c4dae69d19",
    "_uuid": "8f2839f25d086af736a60e9eeb907d3b93b6e0e5",
    "execution": {
     "iopub.execute_input": "2024-05-19T17:28:17.282727Z",
     "iopub.status.busy": "2024-05-19T17:28:17.281945Z",
     "iopub.status.idle": "2024-05-19T17:28:18.334207Z",
     "shell.execute_reply": "2024-05-19T17:28:18.332984Z"
    },
    "papermill": {
     "duration": 1.060529,
     "end_time": "2024-05-19T17:28:18.336489",
     "exception": false,
     "start_time": "2024-05-19T17:28:17.275960",
     "status": "completed"
    },
    "tags": []
   },
   "outputs": [
    {
     "name": "stdout",
     "output_type": "stream",
     "text": [
      "/kaggle/input/conversion-predictors-of-cis-to-multiple-sclerosis/conversion_predictors_of_clinically_isolated_syndrome_to_multiple_sclerosis.csv\n"
     ]
    }
   ],
   "source": [
    "# This Python 3 environment comes with many helpful analytics libraries installed\n",
    "# It is defined by the kaggle/python Docker image: https://github.com/kaggle/docker-python\n",
    "# For example, here's several helpful packages to load\n",
    "\n",
    "import numpy as np # linear algebra\n",
    "import pandas as pd # data processing, CSV file I/O (e.g. pd.read_csv)\n",
    "\n",
    "# Input data files are available in the read-only \"../input/\" directory\n",
    "# For example, running this (by clicking run or pressing Shift+Enter) will list all files under the input directory\n",
    "\n",
    "import os\n",
    "for dirname, _, filenames in os.walk('/kaggle/input'):\n",
    "    for filename in filenames:\n",
    "        print(os.path.join(dirname, filename))\n",
    "\n",
    "# You can write up to 20GB to the current directory (/kaggle/working/) that gets preserved as output when you create a version using \"Save & Run All\" \n",
    "# You can also write temporary files to /kaggle/temp/, but they won't be saved outside of the current session"
   ]
  },
  {
   "cell_type": "code",
   "execution_count": 2,
   "id": "83ada7c9",
   "metadata": {
    "execution": {
     "iopub.execute_input": "2024-05-19T17:28:18.343673Z",
     "iopub.status.busy": "2024-05-19T17:28:18.343187Z",
     "iopub.status.idle": "2024-05-19T17:28:19.577484Z",
     "shell.execute_reply": "2024-05-19T17:28:19.576183Z"
    },
    "papermill": {
     "duration": 1.240104,
     "end_time": "2024-05-19T17:28:19.579627",
     "exception": false,
     "start_time": "2024-05-19T17:28:18.339523",
     "status": "completed"
    },
    "tags": []
   },
   "outputs": [],
   "source": [
    "import pandas as pd\n",
    "import numpy as np\n",
    "import matplotlib.pyplot as plt\n",
    "import seaborn as sns"
   ]
  },
  {
   "cell_type": "code",
   "execution_count": 3,
   "id": "874b1152",
   "metadata": {
    "execution": {
     "iopub.execute_input": "2024-05-19T17:28:19.586317Z",
     "iopub.status.busy": "2024-05-19T17:28:19.585971Z",
     "iopub.status.idle": "2024-05-19T17:28:19.589803Z",
     "shell.execute_reply": "2024-05-19T17:28:19.589037Z"
    },
    "papermill": {
     "duration": 0.009383,
     "end_time": "2024-05-19T17:28:19.591563",
     "exception": false,
     "start_time": "2024-05-19T17:28:19.582180",
     "status": "completed"
    },
    "tags": []
   },
   "outputs": [],
   "source": [
    "plt.rcParams['axes.grid'] = True"
   ]
  },
  {
   "cell_type": "code",
   "execution_count": 4,
   "id": "a1d82d24",
   "metadata": {
    "execution": {
     "iopub.execute_input": "2024-05-19T17:28:19.597233Z",
     "iopub.status.busy": "2024-05-19T17:28:19.596963Z",
     "iopub.status.idle": "2024-05-19T17:28:19.639536Z",
     "shell.execute_reply": "2024-05-19T17:28:19.638110Z"
    },
    "papermill": {
     "duration": 0.047894,
     "end_time": "2024-05-19T17:28:19.641817",
     "exception": false,
     "start_time": "2024-05-19T17:28:19.593923",
     "status": "completed"
    },
    "tags": []
   },
   "outputs": [
    {
     "name": "stdout",
     "output_type": "stream",
     "text": [
      "<class 'pandas.core.frame.DataFrame'>\n",
      "RangeIndex: 273 entries, 0 to 272\n",
      "Data columns (total 20 columns):\n",
      " #   Column                   Non-Null Count  Dtype  \n",
      "---  ------                   --------------  -----  \n",
      " 0   Unnamed: 0               273 non-null    int64  \n",
      " 1   Gender                   273 non-null    int64  \n",
      " 2   Age                      273 non-null    int64  \n",
      " 3   Schooling                272 non-null    float64\n",
      " 4   Breastfeeding            273 non-null    int64  \n",
      " 5   Varicella                273 non-null    int64  \n",
      " 6   Initial_Symptom          272 non-null    float64\n",
      " 7   Mono_or_Polysymptomatic  273 non-null    int64  \n",
      " 8   Oligoclonal_Bands        273 non-null    int64  \n",
      " 9   LLSSEP                   273 non-null    int64  \n",
      " 10  ULSSEP                   273 non-null    int64  \n",
      " 11  VEP                      273 non-null    int64  \n",
      " 12  BAEP                     273 non-null    int64  \n",
      " 13  Periventricular_MRI      273 non-null    int64  \n",
      " 14  Cortical_MRI             273 non-null    int64  \n",
      " 15  Infratentorial_MRI       273 non-null    int64  \n",
      " 16  Spinal_Cord_MRI          273 non-null    int64  \n",
      " 17  Initial_EDSS             125 non-null    float64\n",
      " 18  Final_EDSS               125 non-null    float64\n",
      " 19  group                    273 non-null    int64  \n",
      "dtypes: float64(4), int64(16)\n",
      "memory usage: 42.8 KB\n"
     ]
    }
   ],
   "source": [
    "df = pd.read_csv('/kaggle/input/conversion-predictors-of-cis-to-multiple-sclerosis/conversion_predictors_of_clinically_isolated_syndrome_to_multiple_sclerosis.csv')\n",
    "df.info()"
   ]
  },
  {
   "cell_type": "code",
   "execution_count": 5,
   "id": "6cadd672",
   "metadata": {
    "execution": {
     "iopub.execute_input": "2024-05-19T17:28:19.648282Z",
     "iopub.status.busy": "2024-05-19T17:28:19.647982Z",
     "iopub.status.idle": "2024-05-19T17:28:19.658083Z",
     "shell.execute_reply": "2024-05-19T17:28:19.656939Z"
    },
    "papermill": {
     "duration": 0.015591,
     "end_time": "2024-05-19T17:28:19.660043",
     "exception": false,
     "start_time": "2024-05-19T17:28:19.644452",
     "status": "completed"
    },
    "tags": []
   },
   "outputs": [
    {
     "name": "stdout",
     "output_type": "stream",
     "text": [
      "<class 'pandas.core.frame.DataFrame'>\n",
      "RangeIndex: 273 entries, 0 to 272\n",
      "Data columns (total 20 columns):\n",
      " #   Column                   Non-Null Count  Dtype  \n",
      "---  ------                   --------------  -----  \n",
      " 0   Unnamed: 0               273 non-null    int64  \n",
      " 1   Gender                   273 non-null    int64  \n",
      " 2   Age                      273 non-null    int64  \n",
      " 3   Schooling                272 non-null    float64\n",
      " 4   Breastfeeding            273 non-null    int64  \n",
      " 5   Varicella                273 non-null    int64  \n",
      " 6   Initial_Symptom          272 non-null    float64\n",
      " 7   Mono_or_Polysymptomatic  273 non-null    int64  \n",
      " 8   Oligoclonal_Bands        273 non-null    int64  \n",
      " 9   LLSSEP                   273 non-null    int64  \n",
      " 10  ULSSEP                   273 non-null    int64  \n",
      " 11  VEP                      273 non-null    int64  \n",
      " 12  BAEP                     273 non-null    int64  \n",
      " 13  Periventricular_MRI      273 non-null    int64  \n",
      " 14  Cortical_MRI             273 non-null    int64  \n",
      " 15  Infratentorial_MRI       273 non-null    int64  \n",
      " 16  Spinal_Cord_MRI          273 non-null    int64  \n",
      " 17  Initial_EDSS             125 non-null    float64\n",
      " 18  Final_EDSS               125 non-null    float64\n",
      " 19  Group                    273 non-null    int64  \n",
      "dtypes: float64(4), int64(16)\n",
      "memory usage: 42.8 KB\n"
     ]
    }
   ],
   "source": [
    "df.rename(columns={'group': 'Group'}, inplace=True)\n",
    "df.info()"
   ]
  },
  {
   "cell_type": "markdown",
   "id": "c9276869",
   "metadata": {
    "papermill": {
     "duration": 0.002187,
     "end_time": "2024-05-19T17:28:19.664716",
     "exception": false,
     "start_time": "2024-05-19T17:28:19.662529",
     "status": "completed"
    },
    "tags": []
   },
   "source": [
    "## Definition of some of the technical/medical terms [ref. from wikipedia if not stated explicitly].\n",
    "\n",
    "**Varicella :** Another name for Chickenpox, or chicken pox, is a highly contagious disease caused by the initial infection with varicella zoster virus (VZV), a member of the herpesvirus family.\n",
    "\n",
    "**BAEP:** In human neuroanatomy, brainstem auditory evoked potentials (BAEPs), also called brainstem auditory evoked responses (BAERs), are very small auditory evoked potentials in response to an auditory stimulus, which are recorded by electrodes placed on the scalp.\n",
    "\n",
    "**VEP:** Visual evoked potential (VEP) is an evoked potential elicited by presenting light flash or pattern stimulus which can be used to confirm damage to visual pathway including retina, optic nerve, optic chiasm, optic radiations, and occipital cortex.\n",
    "\n",
    "**Oligoclonal bands:** Oligoclonal bands (OCBs) are bands of immunoglobulins that are seen when a patient's blood serum, or cerebrospinal fluid (CSF) is analyzed. They are used in the diagnosis of various neurological and blood diseases. Oligoclonal bands are present in the CSF of more than 95% of patients with clinically definite multiple sclerosis.\n",
    "\n",
    "**SSEP :** Somatosensory evoked potentials (SSEP) are recorded from the central nervous system following stimulation of peripheral nerves. ULSSEP (upper limb SSEP), LLSSEP (lower limb SSEP)\n",
    "\n",
    "**EDSS:** The Expanded Disability Status Scale (EDSS) is a method of quantifying disability in multiple sclerosis and monitoring changes in the level of disability over time. It is widely used in clinical trials and in the assessment of people with MS. 2\n"
   ]
  },
  {
   "cell_type": "markdown",
   "id": "d35fe52e",
   "metadata": {
    "papermill": {
     "duration": 0.002121,
     "end_time": "2024-05-19T17:28:19.669169",
     "exception": false,
     "start_time": "2024-05-19T17:28:19.667048",
     "status": "completed"
    },
    "tags": []
   },
   "source": [
    "## Dataset column descriptions\n",
    "\n",
    "**ID:** Patient identifier (int)\n",
    "\n",
    "**Age:** Age of the patient (in years)\n",
    "\n",
    "**Schooling:** time the patient spent in school (in years)\n",
    "\n",
    "**Gender:** 1=male, 2=female\n",
    "\n",
    "**Breastfeeding:** 1=yes, 2=no, 3=unknown\n",
    "\n",
    "**Varicella:** 1=positive, 2=negative, 3=unknown\n",
    "\n",
    "**Initial_Symptoms:** 1=visual, 2=sensory, 3=motor, 4=other, 5= visual and sensory, 6=visual and motor, 7=visual and others, 8=sensory and motor, 9=sensory and other, 10=motor and other, 11=Visual, sensory and motor, 12=visual, sensory and other, 13=Visual, motor and other, 14=Sensory, motor and other, 15=visual,sensory,motor and other\n",
    "\n",
    "**Mono _or_Polysymptomatic:** 1=monosymptomatic, 2=polysymptomatic, 3=unknown\n",
    "\n",
    "**Oligoclonal_Bands:** 0=negative, 1=positive, 2=unknown\n",
    "\n",
    "**LLSSEP:** 0=negative, 1=positive\n",
    "\n",
    "**ULSSEP:** 0=negative, 1=positive\n",
    "\n",
    "**VEP:** 0=negative, 1=positive\n",
    "\n",
    "**BAEP:** 0=negative, 1=positive\n",
    "\n",
    "**Periventricular_MRI:** 0=negative, 1=positive\n",
    "\n",
    "**Cortical_MRI:** 0=negative, 1=positive\n",
    "\n",
    "**Infratentorial_MRI:** 0=negative, 1=positive\n",
    "\n",
    "**Spinal_Cord_MRI:** 0=negative, 1=positive\n",
    "\n",
    "**initial_EDSS:** ?\n",
    "\n",
    "**final_EDSS:** ? \n",
    "\n",
    "**Group:** 1=CDMS, 2=non-CDMS\n"
   ]
  }
 ],
 "metadata": {
  "kaggle": {
   "accelerator": "none",
   "dataSources": [
    {
     "datasetId": 3281118,
     "sourceId": 5714851,
     "sourceType": "datasetVersion"
    }
   ],
   "dockerImageVersionId": 30698,
   "isGpuEnabled": false,
   "isInternetEnabled": true,
   "language": "python",
   "sourceType": "notebook"
  },
  "kernelspec": {
   "display_name": "Python 3",
   "language": "python",
   "name": "python3"
  },
  "language_info": {
   "codemirror_mode": {
    "name": "ipython",
    "version": 3
   },
   "file_extension": ".py",
   "mimetype": "text/x-python",
   "name": "python",
   "nbconvert_exporter": "python",
   "pygments_lexer": "ipython3",
   "version": "3.10.13"
  },
  "papermill": {
   "default_parameters": {},
   "duration": 5.73595,
   "end_time": "2024-05-19T17:28:20.191029",
   "environment_variables": {},
   "exception": null,
   "input_path": "__notebook__.ipynb",
   "output_path": "__notebook__.ipynb",
   "parameters": {},
   "start_time": "2024-05-19T17:28:14.455079",
   "version": "2.5.0"
  }
 },
 "nbformat": 4,
 "nbformat_minor": 5
}
