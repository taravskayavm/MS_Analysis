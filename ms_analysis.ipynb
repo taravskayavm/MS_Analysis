{
 "cells": [
  {
   "cell_type": "code",
   "execution_count": 1,
   "id": "b276974d",
   "metadata": {
    "_cell_guid": "b1076dfc-b9ad-4769-8c92-a6c4dae69d19",
    "_uuid": "8f2839f25d086af736a60e9eeb907d3b93b6e0e5",
    "execution": {
     "iopub.execute_input": "2024-05-20T11:48:13.760803Z",
     "iopub.status.busy": "2024-05-20T11:48:13.759935Z",
     "iopub.status.idle": "2024-05-20T11:48:16.017537Z",
     "shell.execute_reply": "2024-05-20T11:48:16.016376Z"
    },
    "papermill": {
     "duration": 2.264139,
     "end_time": "2024-05-20T11:48:16.019971",
     "exception": false,
     "start_time": "2024-05-20T11:48:13.755832",
     "status": "completed"
    },
    "tags": []
   },
   "outputs": [
    {
     "name": "stdout",
     "output_type": "stream",
     "text": [
      "/kaggle/input/conversion-predictors-of-cis-to-multiple-sclerosis/conversion_predictors_of_clinically_isolated_syndrome_to_multiple_sclerosis.csv\n"
     ]
    }
   ],
   "source": [
    "# This Python 3 environment comes with many helpful analytics libraries installed\n",
    "# It is defined by the kaggle/python Docker image: https://github.com/kaggle/docker-python\n",
    "# For example, here's several helpful packages to load\n",
    "\n",
    "import pandas as pd\n",
    "import numpy as np\n",
    "import matplotlib.pyplot as plt\n",
    "import seaborn as sns\n",
    "\n",
    "plt.rcParams['axes.grid'] = True\n",
    "\n",
    "# Input data files are available in the read-only \"../input/\" directory\n",
    "# For example, running this (by clicking run or pressing Shift+Enter) will list all files under the input directory\n",
    "\n",
    "import os\n",
    "for dirname, _, filenames in os.walk('/kaggle/input'):\n",
    "    for filename in filenames:\n",
    "        print(os.path.join(dirname, filename))\n",
    "\n",
    "# You can write up to 20GB to the current directory (/kaggle/working/) that gets preserved as output when you create a version using \"Save & Run All\" \n",
    "# You can also write temporary files to /kaggle/temp/, but they won't be saved outside of the current session"
   ]
  },
  {
   "cell_type": "code",
   "execution_count": 2,
   "id": "ad8c4abc",
   "metadata": {
    "execution": {
     "iopub.execute_input": "2024-05-20T11:48:16.026551Z",
     "iopub.status.busy": "2024-05-20T11:48:16.026030Z",
     "iopub.status.idle": "2024-05-20T11:48:16.047606Z",
     "shell.execute_reply": "2024-05-20T11:48:16.046486Z"
    },
    "papermill": {
     "duration": 0.027613,
     "end_time": "2024-05-20T11:48:16.050156",
     "exception": false,
     "start_time": "2024-05-20T11:48:16.022543",
     "status": "completed"
    },
    "tags": []
   },
   "outputs": [],
   "source": [
    "df = pd.read_csv('/kaggle/input/conversion-predictors-of-cis-to-multiple-sclerosis/conversion_predictors_of_clinically_isolated_syndrome_to_multiple_sclerosis.csv')"
   ]
  },
  {
   "cell_type": "code",
   "execution_count": 3,
   "id": "b1e01fe7",
   "metadata": {
    "execution": {
     "iopub.execute_input": "2024-05-20T11:48:16.056008Z",
     "iopub.status.busy": "2024-05-20T11:48:16.055628Z",
     "iopub.status.idle": "2024-05-20T11:48:16.088761Z",
     "shell.execute_reply": "2024-05-20T11:48:16.087460Z"
    },
    "papermill": {
     "duration": 0.038945,
     "end_time": "2024-05-20T11:48:16.091398",
     "exception": false,
     "start_time": "2024-05-20T11:48:16.052453",
     "status": "completed"
    },
    "tags": []
   },
   "outputs": [
    {
     "name": "stdout",
     "output_type": "stream",
     "text": [
      "<class 'pandas.core.frame.DataFrame'>\n",
      "RangeIndex: 273 entries, 0 to 272\n",
      "Data columns (total 20 columns):\n",
      " #   Column                   Non-Null Count  Dtype  \n",
      "---  ------                   --------------  -----  \n",
      " 0   Unnamed: 0               273 non-null    int64  \n",
      " 1   Gender                   273 non-null    int64  \n",
      " 2   Age                      273 non-null    int64  \n",
      " 3   Schooling                272 non-null    float64\n",
      " 4   Breastfeeding            273 non-null    int64  \n",
      " 5   Varicella                273 non-null    int64  \n",
      " 6   Initial_Symptom          272 non-null    float64\n",
      " 7   Mono_or_Polysymptomatic  273 non-null    int64  \n",
      " 8   Oligoclonal_Bands        273 non-null    int64  \n",
      " 9   LLSSEP                   273 non-null    int64  \n",
      " 10  ULSSEP                   273 non-null    int64  \n",
      " 11  VEP                      273 non-null    int64  \n",
      " 12  BAEP                     273 non-null    int64  \n",
      " 13  Periventricular_MRI      273 non-null    int64  \n",
      " 14  Cortical_MRI             273 non-null    int64  \n",
      " 15  Infratentorial_MRI       273 non-null    int64  \n",
      " 16  Spinal_Cord_MRI          273 non-null    int64  \n",
      " 17  Initial_EDSS             125 non-null    float64\n",
      " 18  Final_EDSS               125 non-null    float64\n",
      " 19  group                    273 non-null    int64  \n",
      "dtypes: float64(4), int64(16)\n",
      "memory usage: 42.8 KB\n"
     ]
    }
   ],
   "source": [
    "df.info()"
   ]
  },
  {
   "cell_type": "code",
   "execution_count": 4,
   "id": "70d14691",
   "metadata": {
    "execution": {
     "iopub.execute_input": "2024-05-20T11:48:16.098595Z",
     "iopub.status.busy": "2024-05-20T11:48:16.097448Z",
     "iopub.status.idle": "2024-05-20T11:48:16.123131Z",
     "shell.execute_reply": "2024-05-20T11:48:16.121945Z"
    },
    "papermill": {
     "duration": 0.031881,
     "end_time": "2024-05-20T11:48:16.125766",
     "exception": false,
     "start_time": "2024-05-20T11:48:16.093885",
     "status": "completed"
    },
    "tags": []
   },
   "outputs": [
    {
     "data": {
      "text/html": [
       "<div>\n",
       "<style scoped>\n",
       "    .dataframe tbody tr th:only-of-type {\n",
       "        vertical-align: middle;\n",
       "    }\n",
       "\n",
       "    .dataframe tbody tr th {\n",
       "        vertical-align: top;\n",
       "    }\n",
       "\n",
       "    .dataframe thead th {\n",
       "        text-align: right;\n",
       "    }\n",
       "</style>\n",
       "<table border=\"1\" class=\"dataframe\">\n",
       "  <thead>\n",
       "    <tr style=\"text-align: right;\">\n",
       "      <th></th>\n",
       "      <th>Unnamed: 0</th>\n",
       "      <th>Gender</th>\n",
       "      <th>Age</th>\n",
       "      <th>Schooling</th>\n",
       "      <th>Breastfeeding</th>\n",
       "      <th>Varicella</th>\n",
       "      <th>Initial_Symptom</th>\n",
       "      <th>Mono_or_Polysymptomatic</th>\n",
       "      <th>Oligoclonal_Bands</th>\n",
       "      <th>LLSSEP</th>\n",
       "      <th>ULSSEP</th>\n",
       "      <th>VEP</th>\n",
       "      <th>BAEP</th>\n",
       "      <th>Periventricular_MRI</th>\n",
       "      <th>Cortical_MRI</th>\n",
       "      <th>Infratentorial_MRI</th>\n",
       "      <th>Spinal_Cord_MRI</th>\n",
       "      <th>Initial_EDSS</th>\n",
       "      <th>Final_EDSS</th>\n",
       "      <th>group</th>\n",
       "    </tr>\n",
       "  </thead>\n",
       "  <tbody>\n",
       "    <tr>\n",
       "      <th>0</th>\n",
       "      <td>0</td>\n",
       "      <td>1</td>\n",
       "      <td>34</td>\n",
       "      <td>20.0</td>\n",
       "      <td>1</td>\n",
       "      <td>1</td>\n",
       "      <td>2.0</td>\n",
       "      <td>1</td>\n",
       "      <td>0</td>\n",
       "      <td>1</td>\n",
       "      <td>1</td>\n",
       "      <td>0</td>\n",
       "      <td>0</td>\n",
       "      <td>0</td>\n",
       "      <td>1</td>\n",
       "      <td>0</td>\n",
       "      <td>1</td>\n",
       "      <td>1.0</td>\n",
       "      <td>1.0</td>\n",
       "      <td>1</td>\n",
       "    </tr>\n",
       "    <tr>\n",
       "      <th>1</th>\n",
       "      <td>1</td>\n",
       "      <td>1</td>\n",
       "      <td>61</td>\n",
       "      <td>25.0</td>\n",
       "      <td>3</td>\n",
       "      <td>2</td>\n",
       "      <td>10.0</td>\n",
       "      <td>2</td>\n",
       "      <td>1</td>\n",
       "      <td>1</td>\n",
       "      <td>0</td>\n",
       "      <td>1</td>\n",
       "      <td>0</td>\n",
       "      <td>0</td>\n",
       "      <td>0</td>\n",
       "      <td>0</td>\n",
       "      <td>1</td>\n",
       "      <td>2.0</td>\n",
       "      <td>2.0</td>\n",
       "      <td>1</td>\n",
       "    </tr>\n",
       "    <tr>\n",
       "      <th>2</th>\n",
       "      <td>2</td>\n",
       "      <td>1</td>\n",
       "      <td>22</td>\n",
       "      <td>20.0</td>\n",
       "      <td>3</td>\n",
       "      <td>1</td>\n",
       "      <td>3.0</td>\n",
       "      <td>1</td>\n",
       "      <td>1</td>\n",
       "      <td>0</td>\n",
       "      <td>0</td>\n",
       "      <td>0</td>\n",
       "      <td>0</td>\n",
       "      <td>0</td>\n",
       "      <td>1</td>\n",
       "      <td>0</td>\n",
       "      <td>0</td>\n",
       "      <td>1.0</td>\n",
       "      <td>1.0</td>\n",
       "      <td>1</td>\n",
       "    </tr>\n",
       "    <tr>\n",
       "      <th>3</th>\n",
       "      <td>3</td>\n",
       "      <td>2</td>\n",
       "      <td>41</td>\n",
       "      <td>15.0</td>\n",
       "      <td>1</td>\n",
       "      <td>1</td>\n",
       "      <td>7.0</td>\n",
       "      <td>2</td>\n",
       "      <td>1</td>\n",
       "      <td>0</td>\n",
       "      <td>1</td>\n",
       "      <td>1</td>\n",
       "      <td>0</td>\n",
       "      <td>1</td>\n",
       "      <td>1</td>\n",
       "      <td>0</td>\n",
       "      <td>0</td>\n",
       "      <td>1.0</td>\n",
       "      <td>1.0</td>\n",
       "      <td>1</td>\n",
       "    </tr>\n",
       "    <tr>\n",
       "      <th>4</th>\n",
       "      <td>4</td>\n",
       "      <td>2</td>\n",
       "      <td>34</td>\n",
       "      <td>20.0</td>\n",
       "      <td>2</td>\n",
       "      <td>1</td>\n",
       "      <td>6.0</td>\n",
       "      <td>2</td>\n",
       "      <td>0</td>\n",
       "      <td>1</td>\n",
       "      <td>0</td>\n",
       "      <td>0</td>\n",
       "      <td>0</td>\n",
       "      <td>1</td>\n",
       "      <td>0</td>\n",
       "      <td>0</td>\n",
       "      <td>0</td>\n",
       "      <td>1.0</td>\n",
       "      <td>1.0</td>\n",
       "      <td>1</td>\n",
       "    </tr>\n",
       "  </tbody>\n",
       "</table>\n",
       "</div>"
      ],
      "text/plain": [
       "   Unnamed: 0  Gender  Age  Schooling  Breastfeeding  Varicella  \\\n",
       "0           0       1   34       20.0              1          1   \n",
       "1           1       1   61       25.0              3          2   \n",
       "2           2       1   22       20.0              3          1   \n",
       "3           3       2   41       15.0              1          1   \n",
       "4           4       2   34       20.0              2          1   \n",
       "\n",
       "   Initial_Symptom  Mono_or_Polysymptomatic  Oligoclonal_Bands  LLSSEP  \\\n",
       "0              2.0                        1                  0       1   \n",
       "1             10.0                        2                  1       1   \n",
       "2              3.0                        1                  1       0   \n",
       "3              7.0                        2                  1       0   \n",
       "4              6.0                        2                  0       1   \n",
       "\n",
       "   ULSSEP  VEP  BAEP  Periventricular_MRI  Cortical_MRI  Infratentorial_MRI  \\\n",
       "0       1    0     0                    0             1                   0   \n",
       "1       0    1     0                    0             0                   0   \n",
       "2       0    0     0                    0             1                   0   \n",
       "3       1    1     0                    1             1                   0   \n",
       "4       0    0     0                    1             0                   0   \n",
       "\n",
       "   Spinal_Cord_MRI  Initial_EDSS  Final_EDSS  group  \n",
       "0                1           1.0         1.0      1  \n",
       "1                1           2.0         2.0      1  \n",
       "2                0           1.0         1.0      1  \n",
       "3                0           1.0         1.0      1  \n",
       "4                0           1.0         1.0      1  "
      ]
     },
     "execution_count": 4,
     "metadata": {},
     "output_type": "execute_result"
    }
   ],
   "source": [
    "df.head()"
   ]
  }
 ],
 "metadata": {
  "kaggle": {
   "accelerator": "none",
   "dataSources": [
    {
     "datasetId": 3281118,
     "sourceId": 5714851,
     "sourceType": "datasetVersion"
    }
   ],
   "dockerImageVersionId": 30698,
   "isGpuEnabled": false,
   "isInternetEnabled": true,
   "language": "python",
   "sourceType": "notebook"
  },
  "kernelspec": {
   "display_name": "Python 3",
   "language": "python",
   "name": "python3"
  },
  "language_info": {
   "codemirror_mode": {
    "name": "ipython",
    "version": 3
   },
   "file_extension": ".py",
   "mimetype": "text/x-python",
   "name": "python",
   "nbconvert_exporter": "python",
   "pygments_lexer": "ipython3",
   "version": "3.10.13"
  },
  "papermill": {
   "default_parameters": {},
   "duration": 5.802536,
   "end_time": "2024-05-20T11:48:16.749171",
   "environment_variables": {},
   "exception": null,
   "input_path": "__notebook__.ipynb",
   "output_path": "__notebook__.ipynb",
   "parameters": {},
   "start_time": "2024-05-20T11:48:10.946635",
   "version": "2.5.0"
  }
 },
 "nbformat": 4,
 "nbformat_minor": 5
}
