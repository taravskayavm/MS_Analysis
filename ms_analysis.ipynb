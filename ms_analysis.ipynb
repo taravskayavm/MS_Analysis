{
 "cells": [
  {
   "cell_type": "code",
   "execution_count": 1,
   "id": "f6e7f090",
   "metadata": {
    "_cell_guid": "b1076dfc-b9ad-4769-8c92-a6c4dae69d19",
    "_uuid": "8f2839f25d086af736a60e9eeb907d3b93b6e0e5",
    "execution": {
     "iopub.execute_input": "2024-05-24T13:22:47.833149Z",
     "iopub.status.busy": "2024-05-24T13:22:47.832771Z",
     "iopub.status.idle": "2024-05-24T13:22:50.080318Z",
     "shell.execute_reply": "2024-05-24T13:22:50.079086Z"
    },
    "papermill": {
     "duration": 2.256458,
     "end_time": "2024-05-24T13:22:50.082896",
     "exception": false,
     "start_time": "2024-05-24T13:22:47.826438",
     "status": "completed"
    },
    "tags": []
   },
   "outputs": [
    {
     "name": "stdout",
     "output_type": "stream",
     "text": [
      "/kaggle/input/conversion-predictors-of-cis-to-multiple-sclerosis/conversion_predictors_of_clinically_isolated_syndrome_to_multiple_sclerosis.csv\n"
     ]
    }
   ],
   "source": [
    "# This Python 3 environment comes with many helpful analytics libraries installed\n",
    "# It is defined by the kaggle/python Docker image: https://github.com/kaggle/docker-python\n",
    "# For example, here's several helpful packages to load\n",
    "\n",
    "import pandas as pd\n",
    "import numpy as np\n",
    "import matplotlib.pyplot as plt\n",
    "import seaborn as sns\n",
    "\n",
    "plt.rcParams['axes.grid'] = True\n",
    "\n",
    "# Input data files are available in the read-only \"../input/\" directory\n",
    "# For example, running this (by clicking run or pressing Shift+Enter) will list all files under the input directory\n",
    "\n",
    "import os\n",
    "for dirname, _, filenames in os.walk('/kaggle/input'):\n",
    "    for filename in filenames:\n",
    "        print(os.path.join(dirname, filename))\n",
    "\n",
    "# You can write up to 20GB to the current directory (/kaggle/working/) that gets preserved as output when you create a version using \"Save & Run All\" \n",
    "# You can also write temporary files to /kaggle/temp/, but they won't be saved outside of the current session"
   ]
  },
  {
   "cell_type": "code",
   "execution_count": 2,
   "id": "51389ee6",
   "metadata": {
    "execution": {
     "iopub.execute_input": "2024-05-24T13:22:50.096038Z",
     "iopub.status.busy": "2024-05-24T13:22:50.094946Z",
     "iopub.status.idle": "2024-05-24T13:22:50.115179Z",
     "shell.execute_reply": "2024-05-24T13:22:50.113976Z"
    },
    "papermill": {
     "duration": 0.02927,
     "end_time": "2024-05-24T13:22:50.117806",
     "exception": false,
     "start_time": "2024-05-24T13:22:50.088536",
     "status": "completed"
    },
    "tags": []
   },
   "outputs": [],
   "source": [
    "df = pd.read_csv('/kaggle/input/conversion-predictors-of-cis-to-multiple-sclerosis/conversion_predictors_of_clinically_isolated_syndrome_to_multiple_sclerosis.csv')"
   ]
  },
  {
   "cell_type": "code",
   "execution_count": 3,
   "id": "cfc1facb",
   "metadata": {
    "execution": {
     "iopub.execute_input": "2024-05-24T13:22:50.129664Z",
     "iopub.status.busy": "2024-05-24T13:22:50.128973Z",
     "iopub.status.idle": "2024-05-24T13:22:50.160764Z",
     "shell.execute_reply": "2024-05-24T13:22:50.159781Z"
    },
    "papermill": {
     "duration": 0.040424,
     "end_time": "2024-05-24T13:22:50.163238",
     "exception": false,
     "start_time": "2024-05-24T13:22:50.122814",
     "status": "completed"
    },
    "tags": []
   },
   "outputs": [
    {
     "data": {
      "text/html": [
       "<div>\n",
       "<style scoped>\n",
       "    .dataframe tbody tr th:only-of-type {\n",
       "        vertical-align: middle;\n",
       "    }\n",
       "\n",
       "    .dataframe tbody tr th {\n",
       "        vertical-align: top;\n",
       "    }\n",
       "\n",
       "    .dataframe thead th {\n",
       "        text-align: right;\n",
       "    }\n",
       "</style>\n",
       "<table border=\"1\" class=\"dataframe\">\n",
       "  <thead>\n",
       "    <tr style=\"text-align: right;\">\n",
       "      <th></th>\n",
       "      <th>Unnamed: 0</th>\n",
       "      <th>Gender</th>\n",
       "      <th>Age</th>\n",
       "      <th>Schooling</th>\n",
       "      <th>Breastfeeding</th>\n",
       "      <th>Varicella</th>\n",
       "      <th>Initial_Symptom</th>\n",
       "      <th>Mono_or_Polysymptomatic</th>\n",
       "      <th>Oligoclonal_Bands</th>\n",
       "      <th>LLSSEP</th>\n",
       "      <th>ULSSEP</th>\n",
       "      <th>VEP</th>\n",
       "      <th>BAEP</th>\n",
       "      <th>Periventricular_MRI</th>\n",
       "      <th>Cortical_MRI</th>\n",
       "      <th>Infratentorial_MRI</th>\n",
       "      <th>Spinal_Cord_MRI</th>\n",
       "      <th>Initial_EDSS</th>\n",
       "      <th>Final_EDSS</th>\n",
       "      <th>group</th>\n",
       "    </tr>\n",
       "  </thead>\n",
       "  <tbody>\n",
       "    <tr>\n",
       "      <th>0</th>\n",
       "      <td>0</td>\n",
       "      <td>1</td>\n",
       "      <td>34</td>\n",
       "      <td>20.0</td>\n",
       "      <td>1</td>\n",
       "      <td>1</td>\n",
       "      <td>2.0</td>\n",
       "      <td>1</td>\n",
       "      <td>0</td>\n",
       "      <td>1</td>\n",
       "      <td>1</td>\n",
       "      <td>0</td>\n",
       "      <td>0</td>\n",
       "      <td>0</td>\n",
       "      <td>1</td>\n",
       "      <td>0</td>\n",
       "      <td>1</td>\n",
       "      <td>1.0</td>\n",
       "      <td>1.0</td>\n",
       "      <td>1</td>\n",
       "    </tr>\n",
       "    <tr>\n",
       "      <th>1</th>\n",
       "      <td>1</td>\n",
       "      <td>1</td>\n",
       "      <td>61</td>\n",
       "      <td>25.0</td>\n",
       "      <td>3</td>\n",
       "      <td>2</td>\n",
       "      <td>10.0</td>\n",
       "      <td>2</td>\n",
       "      <td>1</td>\n",
       "      <td>1</td>\n",
       "      <td>0</td>\n",
       "      <td>1</td>\n",
       "      <td>0</td>\n",
       "      <td>0</td>\n",
       "      <td>0</td>\n",
       "      <td>0</td>\n",
       "      <td>1</td>\n",
       "      <td>2.0</td>\n",
       "      <td>2.0</td>\n",
       "      <td>1</td>\n",
       "    </tr>\n",
       "    <tr>\n",
       "      <th>2</th>\n",
       "      <td>2</td>\n",
       "      <td>1</td>\n",
       "      <td>22</td>\n",
       "      <td>20.0</td>\n",
       "      <td>3</td>\n",
       "      <td>1</td>\n",
       "      <td>3.0</td>\n",
       "      <td>1</td>\n",
       "      <td>1</td>\n",
       "      <td>0</td>\n",
       "      <td>0</td>\n",
       "      <td>0</td>\n",
       "      <td>0</td>\n",
       "      <td>0</td>\n",
       "      <td>1</td>\n",
       "      <td>0</td>\n",
       "      <td>0</td>\n",
       "      <td>1.0</td>\n",
       "      <td>1.0</td>\n",
       "      <td>1</td>\n",
       "    </tr>\n",
       "    <tr>\n",
       "      <th>3</th>\n",
       "      <td>3</td>\n",
       "      <td>2</td>\n",
       "      <td>41</td>\n",
       "      <td>15.0</td>\n",
       "      <td>1</td>\n",
       "      <td>1</td>\n",
       "      <td>7.0</td>\n",
       "      <td>2</td>\n",
       "      <td>1</td>\n",
       "      <td>0</td>\n",
       "      <td>1</td>\n",
       "      <td>1</td>\n",
       "      <td>0</td>\n",
       "      <td>1</td>\n",
       "      <td>1</td>\n",
       "      <td>0</td>\n",
       "      <td>0</td>\n",
       "      <td>1.0</td>\n",
       "      <td>1.0</td>\n",
       "      <td>1</td>\n",
       "    </tr>\n",
       "    <tr>\n",
       "      <th>4</th>\n",
       "      <td>4</td>\n",
       "      <td>2</td>\n",
       "      <td>34</td>\n",
       "      <td>20.0</td>\n",
       "      <td>2</td>\n",
       "      <td>1</td>\n",
       "      <td>6.0</td>\n",
       "      <td>2</td>\n",
       "      <td>0</td>\n",
       "      <td>1</td>\n",
       "      <td>0</td>\n",
       "      <td>0</td>\n",
       "      <td>0</td>\n",
       "      <td>1</td>\n",
       "      <td>0</td>\n",
       "      <td>0</td>\n",
       "      <td>0</td>\n",
       "      <td>1.0</td>\n",
       "      <td>1.0</td>\n",
       "      <td>1</td>\n",
       "    </tr>\n",
       "  </tbody>\n",
       "</table>\n",
       "</div>"
      ],
      "text/plain": [
       "   Unnamed: 0  Gender  Age  Schooling  Breastfeeding  Varicella  \\\n",
       "0           0       1   34       20.0              1          1   \n",
       "1           1       1   61       25.0              3          2   \n",
       "2           2       1   22       20.0              3          1   \n",
       "3           3       2   41       15.0              1          1   \n",
       "4           4       2   34       20.0              2          1   \n",
       "\n",
       "   Initial_Symptom  Mono_or_Polysymptomatic  Oligoclonal_Bands  LLSSEP  \\\n",
       "0              2.0                        1                  0       1   \n",
       "1             10.0                        2                  1       1   \n",
       "2              3.0                        1                  1       0   \n",
       "3              7.0                        2                  1       0   \n",
       "4              6.0                        2                  0       1   \n",
       "\n",
       "   ULSSEP  VEP  BAEP  Periventricular_MRI  Cortical_MRI  Infratentorial_MRI  \\\n",
       "0       1    0     0                    0             1                   0   \n",
       "1       0    1     0                    0             0                   0   \n",
       "2       0    0     0                    0             1                   0   \n",
       "3       1    1     0                    1             1                   0   \n",
       "4       0    0     0                    1             0                   0   \n",
       "\n",
       "   Spinal_Cord_MRI  Initial_EDSS  Final_EDSS  group  \n",
       "0                1           1.0         1.0      1  \n",
       "1                1           2.0         2.0      1  \n",
       "2                0           1.0         1.0      1  \n",
       "3                0           1.0         1.0      1  \n",
       "4                0           1.0         1.0      1  "
      ]
     },
     "execution_count": 3,
     "metadata": {},
     "output_type": "execute_result"
    }
   ],
   "source": [
    "df.head()"
   ]
  },
  {
   "cell_type": "code",
   "execution_count": 4,
   "id": "1cb2e93e",
   "metadata": {
    "execution": {
     "iopub.execute_input": "2024-05-24T13:22:50.175283Z",
     "iopub.status.busy": "2024-05-24T13:22:50.174852Z",
     "iopub.status.idle": "2024-05-24T13:22:50.183038Z",
     "shell.execute_reply": "2024-05-24T13:22:50.181864Z"
    },
    "papermill": {
     "duration": 0.016732,
     "end_time": "2024-05-24T13:22:50.185164",
     "exception": false,
     "start_time": "2024-05-24T13:22:50.168432",
     "status": "completed"
    },
    "tags": []
   },
   "outputs": [],
   "source": [
    "del df['Unnamed: 0']"
   ]
  },
  {
   "cell_type": "code",
   "execution_count": 5,
   "id": "1af160c5",
   "metadata": {
    "execution": {
     "iopub.execute_input": "2024-05-24T13:22:50.196958Z",
     "iopub.status.busy": "2024-05-24T13:22:50.196579Z",
     "iopub.status.idle": "2024-05-24T13:22:50.220441Z",
     "shell.execute_reply": "2024-05-24T13:22:50.219351Z"
    },
    "papermill": {
     "duration": 0.032816,
     "end_time": "2024-05-24T13:22:50.222990",
     "exception": false,
     "start_time": "2024-05-24T13:22:50.190174",
     "status": "completed"
    },
    "tags": []
   },
   "outputs": [
    {
     "name": "stdout",
     "output_type": "stream",
     "text": [
      "<class 'pandas.core.frame.DataFrame'>\n",
      "RangeIndex: 273 entries, 0 to 272\n",
      "Data columns (total 19 columns):\n",
      " #   Column                   Non-Null Count  Dtype  \n",
      "---  ------                   --------------  -----  \n",
      " 0   Gender                   273 non-null    int64  \n",
      " 1   Age                      273 non-null    int64  \n",
      " 2   Schooling                272 non-null    float64\n",
      " 3   Breastfeeding            273 non-null    int64  \n",
      " 4   Varicella                273 non-null    int64  \n",
      " 5   Initial_Symptom          272 non-null    float64\n",
      " 6   Mono_or_Polysymptomatic  273 non-null    int64  \n",
      " 7   Oligoclonal_Bands        273 non-null    int64  \n",
      " 8   LLSSEP                   273 non-null    int64  \n",
      " 9   ULSSEP                   273 non-null    int64  \n",
      " 10  VEP                      273 non-null    int64  \n",
      " 11  BAEP                     273 non-null    int64  \n",
      " 12  Periventricular_MRI      273 non-null    int64  \n",
      " 13  Cortical_MRI             273 non-null    int64  \n",
      " 14  Infratentorial_MRI       273 non-null    int64  \n",
      " 15  Spinal_Cord_MRI          273 non-null    int64  \n",
      " 16  Initial_EDSS             125 non-null    float64\n",
      " 17  Final_EDSS               125 non-null    float64\n",
      " 18  Group                    273 non-null    int64  \n",
      "dtypes: float64(4), int64(15)\n",
      "memory usage: 40.6 KB\n"
     ]
    }
   ],
   "source": [
    "df.rename(columns={'group': 'Group'}, inplace=True)\n",
    "df.info()"
   ]
  },
  {
   "cell_type": "code",
   "execution_count": 6,
   "id": "da489dce",
   "metadata": {
    "execution": {
     "iopub.execute_input": "2024-05-24T13:22:50.235356Z",
     "iopub.status.busy": "2024-05-24T13:22:50.234981Z",
     "iopub.status.idle": "2024-05-24T13:22:50.251915Z",
     "shell.execute_reply": "2024-05-24T13:22:50.250841Z"
    },
    "papermill": {
     "duration": 0.025973,
     "end_time": "2024-05-24T13:22:50.254193",
     "exception": false,
     "start_time": "2024-05-24T13:22:50.228220",
     "status": "completed"
    },
    "tags": []
   },
   "outputs": [
    {
     "name": "stdout",
     "output_type": "stream",
     "text": [
      "     Gender  Age  Schooling  Breastfeeding  Varicella  Initial_Symptom  \\\n",
      "125       2   36        9.0              1          1              1.0   \n",
      "126       1   35        9.0              2          3             10.0   \n",
      "127       2   36       15.0              2          1              1.0   \n",
      "128       2   59       12.0              1          1              8.0   \n",
      "129       1   25       12.0              2          2              3.0   \n",
      "..      ...  ...        ...            ...        ...              ...   \n",
      "268       2   31        8.0              3          1              9.0   \n",
      "269       1   21       15.0              3          3              5.0   \n",
      "270       2   19       12.0              3          3             13.0   \n",
      "271       2   32       15.0              3          3             15.0   \n",
      "272       2   77        6.0              3          3              2.0   \n",
      "\n",
      "     Mono_or_Polysymptomatic  Oligoclonal_Bands  LLSSEP  ULSSEP  VEP  BAEP  \\\n",
      "125                        1                  1       0       0    0     0   \n",
      "126                        2                  0       0       1    1     0   \n",
      "127                        2                  0       0       0    1     0   \n",
      "128                        1                  0       1       1    0     1   \n",
      "129                        2                  0       1       1    1     0   \n",
      "..                       ...                ...     ...     ...  ...   ...   \n",
      "268                        2                  0       0       0    0     0   \n",
      "269                        2                  1       0       0    0     0   \n",
      "270                        2                  0       1       1    1     0   \n",
      "271                        2                  1       1       1    1     0   \n",
      "272                        1                  0       0       1    0     0   \n",
      "\n",
      "     Periventricular_MRI  Cortical_MRI  Infratentorial_MRI  Spinal_Cord_MRI  \\\n",
      "125                    1             1                   0                0   \n",
      "126                    0             0                   0                0   \n",
      "127                    0             0                   1                0   \n",
      "128                    0             1                   1                1   \n",
      "129                    1             1                   0                0   \n",
      "..                   ...           ...                 ...              ...   \n",
      "268                    0             0                   0                0   \n",
      "269                    0             0                   0                1   \n",
      "270                    0             0                   0                1   \n",
      "271                    1             1                   1                0   \n",
      "272                    0             0                   0                0   \n",
      "\n",
      "     Initial_EDSS  Final_EDSS  Group  \n",
      "125           NaN         NaN      2  \n",
      "126           NaN         NaN      2  \n",
      "127           NaN         NaN      2  \n",
      "128           NaN         NaN      2  \n",
      "129           NaN         NaN      2  \n",
      "..            ...         ...    ...  \n",
      "268           NaN         NaN      2  \n",
      "269           NaN         NaN      2  \n",
      "270           NaN         NaN      2  \n",
      "271           NaN         NaN      2  \n",
      "272           NaN         NaN      2  \n",
      "\n",
      "[148 rows x 19 columns]\n"
     ]
    }
   ],
   "source": [
    "# Фильтрация строк, где есть NaN в колонках Initial_EDSS и Final_EDSS\n",
    "df_with_NA = df[df['Initial_EDSS'].isna() & df['Final_EDSS'].isna()]\n",
    "\n",
    "print(df_with_NA)"
   ]
  },
  {
   "cell_type": "code",
   "execution_count": 7,
   "id": "52471e22",
   "metadata": {
    "execution": {
     "iopub.execute_input": "2024-05-24T13:22:50.266962Z",
     "iopub.status.busy": "2024-05-24T13:22:50.266542Z",
     "iopub.status.idle": "2024-05-24T13:22:50.284403Z",
     "shell.execute_reply": "2024-05-24T13:22:50.283283Z"
    },
    "papermill": {
     "duration": 0.027475,
     "end_time": "2024-05-24T13:22:50.286996",
     "exception": false,
     "start_time": "2024-05-24T13:22:50.259521",
     "status": "completed"
    },
    "tags": []
   },
   "outputs": [],
   "source": [
    "# Группировка и подсчет количества NA по переменным Initial_EDSS и Group\n",
    "Initial_EDSS_by_Group = df.groupby(['Initial_EDSS', 'Group']).size().unstack()\n",
    "\n",
    "# Группировка и подсчет количества NA по переменным Final_EDSS и Group\n",
    "Final_EDSS_by_Group = df.groupby(['Final_EDSS', 'Group']).size().unstack()"
   ]
  },
  {
   "cell_type": "code",
   "execution_count": 8,
   "id": "22ea70ce",
   "metadata": {
    "execution": {
     "iopub.execute_input": "2024-05-24T13:22:50.299286Z",
     "iopub.status.busy": "2024-05-24T13:22:50.298861Z",
     "iopub.status.idle": "2024-05-24T13:22:50.859699Z",
     "shell.execute_reply": "2024-05-24T13:22:50.858522Z"
    },
    "papermill": {
     "duration": 0.569795,
     "end_time": "2024-05-24T13:22:50.862186",
     "exception": false,
     "start_time": "2024-05-24T13:22:50.292391",
     "status": "completed"
    },
    "tags": []
   },
   "outputs": [
    {
     "data": {
      "text/plain": [
       "<matplotlib.legend.Legend at 0x7a0cd162d360>"
      ]
     },
     "execution_count": 8,
     "metadata": {},
     "output_type": "execute_result"
    },
    {
     "data": {
      "image/png": "[encoded data removed]",
      "text/plain": [
       "<Figure size 1600x800 with 1 Axes>"
      ]
     },
     "metadata": {},
     "output_type": "display_data"
    }
   ],
   "source": [
    "plt.figure(figsize=(16, 8))\n",
    "colors = sns.hls_palette(h=.5)\n",
    "\n",
    "sns.countplot(data=df, \n",
    "              x='Group', \n",
    "              hue='Initial_EDSS',\n",
    "              palette=colors)\n",
    "\n",
    "plt.title('Initial_EDSS and Group', fontsize=30)\n",
    "plt.ylabel('Initial_EDSS', fontsize=20)\n",
    "plt.xlabel('Group', fontsize=20)\n",
    "\n",
    "bins=15\n",
    "plt.xticks(ha='right', fontsize=15)\n",
    "plt.legend(title='Initial_EDSS and Group', title_fontsize=13, fontsize=13)"
   ]
  },
  {
   "cell_type": "code",
   "execution_count": 9,
   "id": "dc590562",
   "metadata": {
    "execution": {
     "iopub.execute_input": "2024-05-24T13:22:50.876585Z",
     "iopub.status.busy": "2024-05-24T13:22:50.875836Z",
     "iopub.status.idle": "2024-05-24T13:22:51.242708Z",
     "shell.execute_reply": "2024-05-24T13:22:51.241605Z"
    },
    "papermill": {
     "duration": 0.376994,
     "end_time": "2024-05-24T13:22:51.245406",
     "exception": false,
     "start_time": "2024-05-24T13:22:50.868412",
     "status": "completed"
    },
    "tags": []
   },
   "outputs": [
    {
     "data": {
      "text/plain": [
       "<matplotlib.legend.Legend at 0x7a0cd162d510>"
      ]
     },
     "execution_count": 9,
     "metadata": {},
     "output_type": "execute_result"
    },
    {
     "data": {
      "image/png": "[encoded data removed]",
      "text/plain": [
       "<Figure size 1600x800 with 1 Axes>"
      ]
     },
     "metadata": {},
     "output_type": "display_data"
    }
   ],
   "source": [
    "plt.figure(figsize=(16, 8))\n",
    "colors = sns.hls_palette(h=.5)\n",
    "\n",
    "sns.countplot(data=df, \n",
    "              x='Group', \n",
    "              hue='Final_EDSS',\n",
    "              palette=colors)\n",
    "\n",
    "plt.title('Final_EDSS and Group', fontsize=30)\n",
    "plt.ylabel('Final_EDSS', fontsize=20)\n",
    "plt.xlabel('Group', fontsize=20)\n",
    "\n",
    "bins=15\n",
    "plt.xticks(ha='right', fontsize=15)\n",
    "plt.legend(title='Final_EDSS and Group', title_fontsize=13, fontsize=13)"
   ]
  },
  {
   "cell_type": "code",
   "execution_count": 10,
   "id": "0d102e00",
   "metadata": {
    "execution": {
     "iopub.execute_input": "2024-05-24T13:22:51.260978Z",
     "iopub.status.busy": "2024-05-24T13:22:51.260587Z",
     "iopub.status.idle": "2024-05-24T13:22:51.275000Z",
     "shell.execute_reply": "2024-05-24T13:22:51.273768Z"
    },
    "papermill": {
     "duration": 0.025187,
     "end_time": "2024-05-24T13:22:51.277534",
     "exception": false,
     "start_time": "2024-05-24T13:22:51.252347",
     "status": "completed"
    },
    "tags": []
   },
   "outputs": [
    {
     "name": "stdout",
     "output_type": "stream",
     "text": [
      "<class 'pandas.core.frame.DataFrame'>\n",
      "RangeIndex: 273 entries, 0 to 272\n",
      "Data columns (total 19 columns):\n",
      " #   Column                   Non-Null Count  Dtype  \n",
      "---  ------                   --------------  -----  \n",
      " 0   Gender                   273 non-null    int64  \n",
      " 1   Age                      273 non-null    int64  \n",
      " 2   Schooling                272 non-null    float64\n",
      " 3   Breastfeeding            273 non-null    int64  \n",
      " 4   Varicella                273 non-null    int64  \n",
      " 5   Initial_Symptom          272 non-null    float64\n",
      " 6   Mono_or_Polysymptomatic  273 non-null    int64  \n",
      " 7   Oligoclonal_Bands        273 non-null    int64  \n",
      " 8   LLSSEP                   273 non-null    int64  \n",
      " 9   ULSSEP                   273 non-null    int64  \n",
      " 10  VEP                      273 non-null    int64  \n",
      " 11  BAEP                     273 non-null    int64  \n",
      " 12  Periventricular_MRI      273 non-null    int64  \n",
      " 13  Cortical_MRI             273 non-null    int64  \n",
      " 14  Infratentorial_MRI       273 non-null    int64  \n",
      " 15  Spinal_Cord_MRI          273 non-null    int64  \n",
      " 16  Initial_EDSS             273 non-null    float64\n",
      " 17  Final_EDSS               273 non-null    float64\n",
      " 18  Group                    273 non-null    int64  \n",
      "dtypes: float64(4), int64(15)\n",
      "memory usage: 40.6 KB\n"
     ]
    }
   ],
   "source": [
    "df[['Initial_EDSS', 'Final_EDSS']] = df[['Initial_EDSS', 'Final_EDSS']].fillna(0)\n",
    "df.info()"
   ]
  },
  {
   "cell_type": "code",
   "execution_count": null,
   "id": "c33d52c1",
   "metadata": {
    "papermill": {
     "duration": 0.00679,
     "end_time": "2024-05-24T13:22:51.291508",
     "exception": false,
     "start_time": "2024-05-24T13:22:51.284718",
     "status": "completed"
    },
    "tags": []
   },
   "outputs": [],
   "source": []
  },
  {
   "cell_type": "code",
   "execution_count": 11,
   "id": "d3c988a9",
   "metadata": {
    "execution": {
     "iopub.execute_input": "2024-05-24T13:22:51.308219Z",
     "iopub.status.busy": "2024-05-24T13:22:51.307847Z",
     "iopub.status.idle": "2024-05-24T13:22:51.828280Z",
     "shell.execute_reply": "2024-05-24T13:22:51.827339Z"
    },
    "papermill": {
     "duration": 0.532182,
     "end_time": "2024-05-24T13:22:51.830807",
     "exception": false,
     "start_time": "2024-05-24T13:22:51.298625",
     "status": "completed"
    },
    "tags": []
   },
   "outputs": [],
   "source": [
    "from sklearn.ensemble import RandomForestRegressor\n",
    "from sklearn.impute import SimpleImputer"
   ]
  },
  {
   "cell_type": "code",
   "execution_count": 12,
   "id": "1a4d3e03",
   "metadata": {
    "execution": {
     "iopub.execute_input": "2024-05-24T13:22:51.846451Z",
     "iopub.status.busy": "2024-05-24T13:22:51.846069Z",
     "iopub.status.idle": "2024-05-24T13:22:52.283982Z",
     "shell.execute_reply": "2024-05-24T13:22:52.282840Z"
    },
    "papermill": {
     "duration": 0.448543,
     "end_time": "2024-05-24T13:22:52.286458",
     "exception": false,
     "start_time": "2024-05-24T13:22:51.837915",
     "status": "completed"
    },
    "tags": []
   },
   "outputs": [
    {
     "name": "stdout",
     "output_type": "stream",
     "text": [
      "<class 'pandas.core.frame.DataFrame'>\n",
      "RangeIndex: 273 entries, 0 to 272\n",
      "Data columns (total 19 columns):\n",
      " #   Column                   Non-Null Count  Dtype  \n",
      "---  ------                   --------------  -----  \n",
      " 0   Gender                   273 non-null    int64  \n",
      " 1   Age                      273 non-null    int64  \n",
      " 2   Schooling                273 non-null    float64\n",
      " 3   Breastfeeding            273 non-null    int64  \n",
      " 4   Varicella                273 non-null    int64  \n",
      " 5   Initial_Symptom          273 non-null    float64\n",
      " 6   Mono_or_Polysymptomatic  273 non-null    int64  \n",
      " 7   Oligoclonal_Bands        273 non-null    int64  \n",
      " 8   LLSSEP                   273 non-null    int64  \n",
      " 9   ULSSEP                   273 non-null    int64  \n",
      " 10  VEP                      273 non-null    int64  \n",
      " 11  BAEP                     273 non-null    int64  \n",
      " 12  Periventricular_MRI      273 non-null    int64  \n",
      " 13  Cortical_MRI             273 non-null    int64  \n",
      " 14  Infratentorial_MRI       273 non-null    int64  \n",
      " 15  Spinal_Cord_MRI          273 non-null    int64  \n",
      " 16  Initial_EDSS             273 non-null    float64\n",
      " 17  Final_EDSS               273 non-null    float64\n",
      " 18  Group                    273 non-null    int64  \n",
      "dtypes: float64(4), int64(15)\n",
      "memory usage: 40.6 KB\n"
     ]
    }
   ],
   "source": [
    "# Функция для заполнения пропущенных значений методами машинного обучения\n",
    "def fill_missing_values(df, column):\n",
    "    # Разделение данных на обучающие и тестовые, где есть и нет пропущенных значений\n",
    "    df_notna = df[df[column].notna()]\n",
    "    df_na = df[df[column].isna()]\n",
    "\n",
    "    # Разделение данных на признаки и целевую переменную\n",
    "    X = df_notna.drop(columns=[column])\n",
    "    y = df_notna[column]\n",
    "    X_test = df_na.drop(columns=[column])\n",
    "\n",
    "    # Предварительная обработка данных: заполнение пропущенных значений в признаках\n",
    "    imputer = SimpleImputer(strategy='mean')\n",
    "    X = imputer.fit_transform(X)\n",
    "    X_test = imputer.transform(X_test)\n",
    "\n",
    "    # Обучение модели\n",
    "    model = RandomForestRegressor()\n",
    "    model.fit(X, y)\n",
    "\n",
    "    # Предсказание пропущенных значений\n",
    "    predicted_values = model.predict(X_test)\n",
    "\n",
    "    # Заполнение пропущенных значений\n",
    "    df.loc[df[column].isna(), column] = predicted_values\n",
    "\n",
    "    return df\n",
    "\n",
    "# Заполнение пропущенных значений в колонках 'Schooling' и 'Initial_Symptom'\n",
    "columns_to_fill = ['Schooling', 'Initial_Symptom']\n",
    "\n",
    "for column in columns_to_fill:\n",
    "    df = fill_missing_values(df, column)\n",
    "    \n",
    "df.info()"
   ]
  },
  {
   "cell_type": "code",
   "execution_count": null,
   "id": "fa05168a",
   "metadata": {
    "papermill": {
     "duration": 0.006766,
     "end_time": "2024-05-24T13:22:52.300147",
     "exception": false,
     "start_time": "2024-05-24T13:22:52.293381",
     "status": "completed"
    },
    "tags": []
   },
   "outputs": [],
   "source": []
  },
  {
   "cell_type": "code",
   "execution_count": 13,
   "id": "6fa6ce21",
   "metadata": {
    "execution": {
     "iopub.execute_input": "2024-05-24T13:22:52.315781Z",
     "iopub.status.busy": "2024-05-24T13:22:52.315399Z",
     "iopub.status.idle": "2024-05-24T13:22:52.320114Z",
     "shell.execute_reply": "2024-05-24T13:22:52.319081Z"
    },
    "papermill": {
     "duration": 0.015215,
     "end_time": "2024-05-24T13:22:52.322239",
     "exception": false,
     "start_time": "2024-05-24T13:22:52.307024",
     "status": "completed"
    },
    "tags": []
   },
   "outputs": [],
   "source": [
    "from sklearn.model_selection import train_test_split\n",
    "from sklearn.ensemble import RandomForestClassifier"
   ]
  },
  {
   "cell_type": "code",
   "execution_count": 14,
   "id": "dade6d68",
   "metadata": {
    "execution": {
     "iopub.execute_input": "2024-05-24T13:22:52.338191Z",
     "iopub.status.busy": "2024-05-24T13:22:52.337815Z",
     "iopub.status.idle": "2024-05-24T13:22:52.520356Z",
     "shell.execute_reply": "2024-05-24T13:22:52.519365Z"
    },
    "papermill": {
     "duration": 0.193374,
     "end_time": "2024-05-24T13:22:52.522702",
     "exception": false,
     "start_time": "2024-05-24T13:22:52.329328",
     "status": "completed"
    },
    "tags": []
   },
   "outputs": [
    {
     "name": "stdout",
     "output_type": "stream",
     "text": [
      "                    Feature  Importance\n",
      "17               Final_EDSS    0.468157\n",
      "16             Initial_EDSS    0.348912\n",
      "12      Periventricular_MRI    0.059886\n",
      "5           Initial_Symptom    0.035058\n",
      "14       Infratentorial_MRI    0.028724\n",
      "4                 Varicella    0.009821\n",
      "2                 Schooling    0.008326\n",
      "7         Oligoclonal_Bands    0.008177\n",
      "1                       Age    0.006699\n",
      "0                    Gender    0.006243\n",
      "13             Cortical_MRI    0.005261\n",
      "3             Breastfeeding    0.003467\n",
      "8                    LLSSEP    0.003290\n",
      "10                      VEP    0.002797\n",
      "9                    ULSSEP    0.002316\n",
      "6   Mono_or_Polysymptomatic    0.002040\n",
      "15          Spinal_Cord_MRI    0.000468\n",
      "11                     BAEP    0.000360\n"
     ]
    }
   ],
   "source": [
    "# Определение признаков и целевой переменной\n",
    "X = df.drop('Group', axis=1)  # Признаки\n",
    "y = df['Group']  # Целевая переменная\n",
    "\n",
    "# Разделение данных на обучающую и тестовую выборки\n",
    "X_train, X_test, y_train, y_test = train_test_split(X, y, test_size=0.2, random_state=42)\n",
    "\n",
    "# Создание и обучение модели\n",
    "model = RandomForestClassifier()\n",
    "model.fit(X_train, y_train)\n",
    "\n",
    "# Важность факторов\n",
    "importances = model.feature_importances_\n",
    "\n",
    "# Создание DataFrame для важности факторов\n",
    "feature_importances = pd.DataFrame({\n",
    "    'Feature': X.columns,\n",
    "    'Importance': importances\n",
    "})\n",
    "\n",
    "# Сортировка факторов по важности\n",
    "feature_importances = feature_importances.sort_values(by='Importance', ascending=False)\n",
    "\n",
    "print(feature_importances)"
   ]
  },
  {
   "cell_type": "code",
   "execution_count": 15,
   "id": "2181f838",
   "metadata": {
    "execution": {
     "iopub.execute_input": "2024-05-24T13:22:52.538420Z",
     "iopub.status.busy": "2024-05-24T13:22:52.538042Z",
     "iopub.status.idle": "2024-05-24T13:22:52.905934Z",
     "shell.execute_reply": "2024-05-24T13:22:52.904825Z"
    },
    "papermill": {
     "duration": 0.378637,
     "end_time": "2024-05-24T13:22:52.908474",
     "exception": false,
     "start_time": "2024-05-24T13:22:52.529837",
     "status": "completed"
    },
    "tags": []
   },
   "outputs": [
    {
     "data": {
      "image/png": "[encoded data removed]",
      "text/plain": [
       "<Figure size 1000x600 with 1 Axes>"
      ]
     },
     "metadata": {},
     "output_type": "display_data"
    }
   ],
   "source": [
    "# Визуализация важности признаков\n",
    "plt.figure(figsize=(10, 6))\n",
    "\n",
    "plt.barh(feature_importances['Feature'], feature_importances['Importance'])\n",
    "plt.xlabel('Importance')\n",
    "plt.ylabel('Features')\n",
    "plt.title('Feature Importance')\n",
    "plt.gca().invert_yaxis()\n",
    "plt.show()"
   ]
  }
 ],
 "metadata": {
  "kaggle": {
   "accelerator": "none",
   "dataSources": [
    {
     "datasetId": 3281118,
     "sourceId": 5714851,
     "sourceType": "datasetVersion"
    }
   ],
   "dockerImageVersionId": 30698,
   "isGpuEnabled": false,
   "isInternetEnabled": true,
   "language": "python",
   "sourceType": "notebook"
  },
  "kernelspec": {
   "display_name": "Python 3",
   "language": "python",
   "name": "python3"
  },
  "language_info": {
   "codemirror_mode": {
    "name": "ipython",
    "version": 3
   },
   "file_extension": ".py",
   "mimetype": "text/x-python",
   "name": "python",
   "nbconvert_exporter": "python",
   "pygments_lexer": "ipython3",
   "version": "3.10.13"
  },
  "papermill": {
   "default_parameters": {},
   "duration": 8.422428,
   "end_time": "2024-05-24T13:22:53.537358",
   "environment_variables": {},
   "exception": null,
   "input_path": "__notebook__.ipynb",
   "output_path": "__notebook__.ipynb",
   "parameters": {},
   "start_time": "2024-05-24T13:22:45.114930",
   "version": "2.5.0"
  }
 },
 "nbformat": 4,
 "nbformat_minor": 5
}
