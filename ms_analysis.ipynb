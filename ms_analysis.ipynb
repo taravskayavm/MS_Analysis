{
 "cells": [
  {
   "cell_type": "code",
   "execution_count": 1,
   "id": "80d6b22b",
   "metadata": {
    "_cell_guid": "b1076dfc-b9ad-4769-8c92-a6c4dae69d19",
    "_uuid": "8f2839f25d086af736a60e9eeb907d3b93b6e0e5",
    "execution": {
     "iopub.execute_input": "2024-05-20T18:23:46.450789Z",
     "iopub.status.busy": "2024-05-20T18:23:46.450038Z",
     "iopub.status.idle": "2024-05-20T18:23:48.420275Z",
     "shell.execute_reply": "2024-05-20T18:23:48.419101Z"
    },
    "papermill": {
     "duration": 1.980613,
     "end_time": "2024-05-20T18:23:48.422788",
     "exception": false,
     "start_time": "2024-05-20T18:23:46.442175",
     "status": "completed"
    },
    "tags": []
   },
   "outputs": [
    {
     "name": "stdout",
     "output_type": "stream",
     "text": [
      "/kaggle/input/conversion-predictors-of-cis-to-multiple-sclerosis/conversion_predictors_of_clinically_isolated_syndrome_to_multiple_sclerosis.csv\n"
     ]
    }
   ],
   "source": [
    "# This Python 3 environment comes with many helpful analytics libraries installed\n",
    "# It is defined by the kaggle/python Docker image: https://github.com/kaggle/docker-python\n",
    "# For example, here's several helpful packages to load\n",
    "\n",
    "import pandas as pd\n",
    "import numpy as np\n",
    "import matplotlib.pyplot as plt\n",
    "import seaborn as sns\n",
    "\n",
    "plt.rcParams['axes.grid'] = True\n",
    "\n",
    "# Input data files are available in the read-only \"../input/\" directory\n",
    "# For example, running this (by clicking run or pressing Shift+Enter) will list all files under the input directory\n",
    "\n",
    "import os\n",
    "for dirname, _, filenames in os.walk('/kaggle/input'):\n",
    "    for filename in filenames:\n",
    "        print(os.path.join(dirname, filename))\n",
    "\n",
    "# You can write up to 20GB to the current directory (/kaggle/working/) that gets preserved as output when you create a version using \"Save & Run All\" \n",
    "# You can also write temporary files to /kaggle/temp/, but they won't be saved outside of the current session"
   ]
  },
  {
   "cell_type": "code",
   "execution_count": 2,
   "id": "6cdc56f4",
   "metadata": {
    "execution": {
     "iopub.execute_input": "2024-05-20T18:23:48.435871Z",
     "iopub.status.busy": "2024-05-20T18:23:48.435350Z",
     "iopub.status.idle": "2024-05-20T18:23:48.453606Z",
     "shell.execute_reply": "2024-05-20T18:23:48.452612Z"
    },
    "papermill": {
     "duration": 0.028004,
     "end_time": "2024-05-20T18:23:48.456627",
     "exception": false,
     "start_time": "2024-05-20T18:23:48.428623",
     "status": "completed"
    },
    "tags": []
   },
   "outputs": [],
   "source": [
    "df = pd.read_csv('/kaggle/input/conversion-predictors-of-cis-to-multiple-sclerosis/conversion_predictors_of_clinically_isolated_syndrome_to_multiple_sclerosis.csv')"
   ]
  },
  {
   "cell_type": "code",
   "execution_count": 3,
   "id": "48f204a0",
   "metadata": {
    "execution": {
     "iopub.execute_input": "2024-05-20T18:23:48.469429Z",
     "iopub.status.busy": "2024-05-20T18:23:48.469024Z",
     "iopub.status.idle": "2024-05-20T18:23:48.506822Z",
     "shell.execute_reply": "2024-05-20T18:23:48.505810Z"
    },
    "papermill": {
     "duration": 0.047127,
     "end_time": "2024-05-20T18:23:48.509412",
     "exception": false,
     "start_time": "2024-05-20T18:23:48.462285",
     "status": "completed"
    },
    "tags": []
   },
   "outputs": [
    {
     "data": {
      "text/html": [
       "<div>\n",
       "<style scoped>\n",
       "    .dataframe tbody tr th:only-of-type {\n",
       "        vertical-align: middle;\n",
       "    }\n",
       "\n",
       "    .dataframe tbody tr th {\n",
       "        vertical-align: top;\n",
       "    }\n",
       "\n",
       "    .dataframe thead th {\n",
       "        text-align: right;\n",
       "    }\n",
       "</style>\n",
       "<table border=\"1\" class=\"dataframe\">\n",
       "  <thead>\n",
       "    <tr style=\"text-align: right;\">\n",
       "      <th></th>\n",
       "      <th>Unnamed: 0</th>\n",
       "      <th>Gender</th>\n",
       "      <th>Age</th>\n",
       "      <th>Schooling</th>\n",
       "      <th>Breastfeeding</th>\n",
       "      <th>Varicella</th>\n",
       "      <th>Initial_Symptom</th>\n",
       "      <th>Mono_or_Polysymptomatic</th>\n",
       "      <th>Oligoclonal_Bands</th>\n",
       "      <th>LLSSEP</th>\n",
       "      <th>ULSSEP</th>\n",
       "      <th>VEP</th>\n",
       "      <th>BAEP</th>\n",
       "      <th>Periventricular_MRI</th>\n",
       "      <th>Cortical_MRI</th>\n",
       "      <th>Infratentorial_MRI</th>\n",
       "      <th>Spinal_Cord_MRI</th>\n",
       "      <th>Initial_EDSS</th>\n",
       "      <th>Final_EDSS</th>\n",
       "      <th>group</th>\n",
       "    </tr>\n",
       "  </thead>\n",
       "  <tbody>\n",
       "    <tr>\n",
       "      <th>0</th>\n",
       "      <td>0</td>\n",
       "      <td>1</td>\n",
       "      <td>34</td>\n",
       "      <td>20.0</td>\n",
       "      <td>1</td>\n",
       "      <td>1</td>\n",
       "      <td>2.0</td>\n",
       "      <td>1</td>\n",
       "      <td>0</td>\n",
       "      <td>1</td>\n",
       "      <td>1</td>\n",
       "      <td>0</td>\n",
       "      <td>0</td>\n",
       "      <td>0</td>\n",
       "      <td>1</td>\n",
       "      <td>0</td>\n",
       "      <td>1</td>\n",
       "      <td>1.0</td>\n",
       "      <td>1.0</td>\n",
       "      <td>1</td>\n",
       "    </tr>\n",
       "    <tr>\n",
       "      <th>1</th>\n",
       "      <td>1</td>\n",
       "      <td>1</td>\n",
       "      <td>61</td>\n",
       "      <td>25.0</td>\n",
       "      <td>3</td>\n",
       "      <td>2</td>\n",
       "      <td>10.0</td>\n",
       "      <td>2</td>\n",
       "      <td>1</td>\n",
       "      <td>1</td>\n",
       "      <td>0</td>\n",
       "      <td>1</td>\n",
       "      <td>0</td>\n",
       "      <td>0</td>\n",
       "      <td>0</td>\n",
       "      <td>0</td>\n",
       "      <td>1</td>\n",
       "      <td>2.0</td>\n",
       "      <td>2.0</td>\n",
       "      <td>1</td>\n",
       "    </tr>\n",
       "    <tr>\n",
       "      <th>2</th>\n",
       "      <td>2</td>\n",
       "      <td>1</td>\n",
       "      <td>22</td>\n",
       "      <td>20.0</td>\n",
       "      <td>3</td>\n",
       "      <td>1</td>\n",
       "      <td>3.0</td>\n",
       "      <td>1</td>\n",
       "      <td>1</td>\n",
       "      <td>0</td>\n",
       "      <td>0</td>\n",
       "      <td>0</td>\n",
       "      <td>0</td>\n",
       "      <td>0</td>\n",
       "      <td>1</td>\n",
       "      <td>0</td>\n",
       "      <td>0</td>\n",
       "      <td>1.0</td>\n",
       "      <td>1.0</td>\n",
       "      <td>1</td>\n",
       "    </tr>\n",
       "    <tr>\n",
       "      <th>3</th>\n",
       "      <td>3</td>\n",
       "      <td>2</td>\n",
       "      <td>41</td>\n",
       "      <td>15.0</td>\n",
       "      <td>1</td>\n",
       "      <td>1</td>\n",
       "      <td>7.0</td>\n",
       "      <td>2</td>\n",
       "      <td>1</td>\n",
       "      <td>0</td>\n",
       "      <td>1</td>\n",
       "      <td>1</td>\n",
       "      <td>0</td>\n",
       "      <td>1</td>\n",
       "      <td>1</td>\n",
       "      <td>0</td>\n",
       "      <td>0</td>\n",
       "      <td>1.0</td>\n",
       "      <td>1.0</td>\n",
       "      <td>1</td>\n",
       "    </tr>\n",
       "    <tr>\n",
       "      <th>4</th>\n",
       "      <td>4</td>\n",
       "      <td>2</td>\n",
       "      <td>34</td>\n",
       "      <td>20.0</td>\n",
       "      <td>2</td>\n",
       "      <td>1</td>\n",
       "      <td>6.0</td>\n",
       "      <td>2</td>\n",
       "      <td>0</td>\n",
       "      <td>1</td>\n",
       "      <td>0</td>\n",
       "      <td>0</td>\n",
       "      <td>0</td>\n",
       "      <td>1</td>\n",
       "      <td>0</td>\n",
       "      <td>0</td>\n",
       "      <td>0</td>\n",
       "      <td>1.0</td>\n",
       "      <td>1.0</td>\n",
       "      <td>1</td>\n",
       "    </tr>\n",
       "  </tbody>\n",
       "</table>\n",
       "</div>"
      ],
      "text/plain": [
       "   Unnamed: 0  Gender  Age  Schooling  Breastfeeding  Varicella  \\\n",
       "0           0       1   34       20.0              1          1   \n",
       "1           1       1   61       25.0              3          2   \n",
       "2           2       1   22       20.0              3          1   \n",
       "3           3       2   41       15.0              1          1   \n",
       "4           4       2   34       20.0              2          1   \n",
       "\n",
       "   Initial_Symptom  Mono_or_Polysymptomatic  Oligoclonal_Bands  LLSSEP  \\\n",
       "0              2.0                        1                  0       1   \n",
       "1             10.0                        2                  1       1   \n",
       "2              3.0                        1                  1       0   \n",
       "3              7.0                        2                  1       0   \n",
       "4              6.0                        2                  0       1   \n",
       "\n",
       "   ULSSEP  VEP  BAEP  Periventricular_MRI  Cortical_MRI  Infratentorial_MRI  \\\n",
       "0       1    0     0                    0             1                   0   \n",
       "1       0    1     0                    0             0                   0   \n",
       "2       0    0     0                    0             1                   0   \n",
       "3       1    1     0                    1             1                   0   \n",
       "4       0    0     0                    1             0                   0   \n",
       "\n",
       "   Spinal_Cord_MRI  Initial_EDSS  Final_EDSS  group  \n",
       "0                1           1.0         1.0      1  \n",
       "1                1           2.0         2.0      1  \n",
       "2                0           1.0         1.0      1  \n",
       "3                0           1.0         1.0      1  \n",
       "4                0           1.0         1.0      1  "
      ]
     },
     "execution_count": 3,
     "metadata": {},
     "output_type": "execute_result"
    }
   ],
   "source": [
    "df.head()"
   ]
  },
  {
   "cell_type": "code",
   "execution_count": 4,
   "id": "fc2d98fd",
   "metadata": {
    "execution": {
     "iopub.execute_input": "2024-05-20T18:23:48.522844Z",
     "iopub.status.busy": "2024-05-20T18:23:48.522474Z",
     "iopub.status.idle": "2024-05-20T18:23:48.532190Z",
     "shell.execute_reply": "2024-05-20T18:23:48.531014Z"
    },
    "papermill": {
     "duration": 0.019101,
     "end_time": "2024-05-20T18:23:48.534536",
     "exception": false,
     "start_time": "2024-05-20T18:23:48.515435",
     "status": "completed"
    },
    "tags": []
   },
   "outputs": [],
   "source": [
    "del df['Unnamed: 0']\n",
    "del df['Initial_EDSS']\n",
    "del df['Final_EDSS']"
   ]
  },
  {
   "cell_type": "code",
   "execution_count": 5,
   "id": "6a9234e5",
   "metadata": {
    "execution": {
     "iopub.execute_input": "2024-05-20T18:23:48.548441Z",
     "iopub.status.busy": "2024-05-20T18:23:48.547810Z",
     "iopub.status.idle": "2024-05-20T18:23:48.570268Z",
     "shell.execute_reply": "2024-05-20T18:23:48.569163Z"
    },
    "papermill": {
     "duration": 0.032377,
     "end_time": "2024-05-20T18:23:48.572878",
     "exception": false,
     "start_time": "2024-05-20T18:23:48.540501",
     "status": "completed"
    },
    "tags": []
   },
   "outputs": [
    {
     "name": "stdout",
     "output_type": "stream",
     "text": [
      "<class 'pandas.core.frame.DataFrame'>\n",
      "RangeIndex: 273 entries, 0 to 272\n",
      "Data columns (total 17 columns):\n",
      " #   Column                   Non-Null Count  Dtype  \n",
      "---  ------                   --------------  -----  \n",
      " 0   Gender                   273 non-null    int64  \n",
      " 1   Age                      273 non-null    int64  \n",
      " 2   Schooling                272 non-null    float64\n",
      " 3   Breastfeeding            273 non-null    int64  \n",
      " 4   Varicella                273 non-null    int64  \n",
      " 5   Initial_Symptom          272 non-null    float64\n",
      " 6   Mono_or_Polysymptomatic  273 non-null    int64  \n",
      " 7   Oligoclonal_Bands        273 non-null    int64  \n",
      " 8   LLSSEP                   273 non-null    int64  \n",
      " 9   ULSSEP                   273 non-null    int64  \n",
      " 10  VEP                      273 non-null    int64  \n",
      " 11  BAEP                     273 non-null    int64  \n",
      " 12  Periventricular_MRI      273 non-null    int64  \n",
      " 13  Cortical_MRI             273 non-null    int64  \n",
      " 14  Infratentorial_MRI       273 non-null    int64  \n",
      " 15  Spinal_Cord_MRI          273 non-null    int64  \n",
      " 16  Group                    273 non-null    int64  \n",
      "dtypes: float64(2), int64(15)\n",
      "memory usage: 36.4 KB\n"
     ]
    }
   ],
   "source": [
    "df.rename(columns={'group': 'Group'}, inplace=True)\n",
    "df.info()"
   ]
  },
  {
   "cell_type": "code",
   "execution_count": 6,
   "id": "9b33af80",
   "metadata": {
    "execution": {
     "iopub.execute_input": "2024-05-20T18:23:48.587309Z",
     "iopub.status.busy": "2024-05-20T18:23:48.586928Z",
     "iopub.status.idle": "2024-05-20T18:23:49.120597Z",
     "shell.execute_reply": "2024-05-20T18:23:49.119708Z"
    },
    "papermill": {
     "duration": 0.543875,
     "end_time": "2024-05-20T18:23:49.123339",
     "exception": false,
     "start_time": "2024-05-20T18:23:48.579464",
     "status": "completed"
    },
    "tags": []
   },
   "outputs": [],
   "source": [
    "from sklearn.ensemble import RandomForestRegressor\n",
    "from sklearn.impute import SimpleImputer"
   ]
  },
  {
   "cell_type": "code",
   "execution_count": 7,
   "id": "a4871294",
   "metadata": {
    "execution": {
     "iopub.execute_input": "2024-05-20T18:23:49.137595Z",
     "iopub.status.busy": "2024-05-20T18:23:49.136687Z",
     "iopub.status.idle": "2024-05-20T18:23:49.656646Z",
     "shell.execute_reply": "2024-05-20T18:23:49.655499Z"
    },
    "papermill": {
     "duration": 0.530038,
     "end_time": "2024-05-20T18:23:49.659502",
     "exception": false,
     "start_time": "2024-05-20T18:23:49.129464",
     "status": "completed"
    },
    "tags": []
   },
   "outputs": [],
   "source": [
    "# Функция для заполнения пропущенных значений методами машинного обучения\n",
    "def fill_missing_values(df, column):\n",
    "    # Разделение данных на обучающие и тестовые, где есть и нет пропущенных значений\n",
    "    df_notna = df[df[column].notna()]\n",
    "    df_na = df[df[column].isna()]\n",
    "\n",
    "    # Разделение данных на признаки и целевую переменную\n",
    "    X = df_notna.drop(columns=[column])\n",
    "    y = df_notna[column]\n",
    "    X_test = df_na.drop(columns=[column])\n",
    "\n",
    "    # Предварительная обработка данных: заполнение пропущенных значений в признаках\n",
    "    imputer = SimpleImputer(strategy='mean')\n",
    "    X = imputer.fit_transform(X)\n",
    "    X_test = imputer.transform(X_test)\n",
    "\n",
    "    # Обучение модели\n",
    "    model = RandomForestRegressor()\n",
    "    model.fit(X, y)\n",
    "\n",
    "    # Предсказание пропущенных значений\n",
    "    predicted_values = model.predict(X_test)\n",
    "\n",
    "    # Заполнение пропущенных значений\n",
    "    df.loc[df[column].isna(), column] = predicted_values\n",
    "\n",
    "    return df\n",
    "\n",
    "# Заполнение пропущенных значений в колонках 'Schooling' и 'Initial_Symptom'\n",
    "columns_to_fill = ['Schooling', 'Initial_Symptom']\n",
    "\n",
    "for column in columns_to_fill:\n",
    "    df = fill_missing_values(df, column)"
   ]
  },
  {
   "cell_type": "code",
   "execution_count": 8,
   "id": "91299508",
   "metadata": {
    "execution": {
     "iopub.execute_input": "2024-05-20T18:23:49.674219Z",
     "iopub.status.busy": "2024-05-20T18:23:49.673328Z",
     "iopub.status.idle": "2024-05-20T18:23:49.685598Z",
     "shell.execute_reply": "2024-05-20T18:23:49.684608Z"
    },
    "papermill": {
     "duration": 0.022731,
     "end_time": "2024-05-20T18:23:49.688565",
     "exception": false,
     "start_time": "2024-05-20T18:23:49.665834",
     "status": "completed"
    },
    "tags": []
   },
   "outputs": [
    {
     "name": "stdout",
     "output_type": "stream",
     "text": [
      "<class 'pandas.core.frame.DataFrame'>\n",
      "RangeIndex: 273 entries, 0 to 272\n",
      "Data columns (total 17 columns):\n",
      " #   Column                   Non-Null Count  Dtype  \n",
      "---  ------                   --------------  -----  \n",
      " 0   Gender                   273 non-null    int64  \n",
      " 1   Age                      273 non-null    int64  \n",
      " 2   Schooling                273 non-null    float64\n",
      " 3   Breastfeeding            273 non-null    int64  \n",
      " 4   Varicella                273 non-null    int64  \n",
      " 5   Initial_Symptom          273 non-null    float64\n",
      " 6   Mono_or_Polysymptomatic  273 non-null    int64  \n",
      " 7   Oligoclonal_Bands        273 non-null    int64  \n",
      " 8   LLSSEP                   273 non-null    int64  \n",
      " 9   ULSSEP                   273 non-null    int64  \n",
      " 10  VEP                      273 non-null    int64  \n",
      " 11  BAEP                     273 non-null    int64  \n",
      " 12  Periventricular_MRI      273 non-null    int64  \n",
      " 13  Cortical_MRI             273 non-null    int64  \n",
      " 14  Infratentorial_MRI       273 non-null    int64  \n",
      " 15  Spinal_Cord_MRI          273 non-null    int64  \n",
      " 16  Group                    273 non-null    int64  \n",
      "dtypes: float64(2), int64(15)\n",
      "memory usage: 36.4 KB\n"
     ]
    }
   ],
   "source": [
    "df.info()"
   ]
  },
  {
   "cell_type": "code",
   "execution_count": 9,
   "id": "4c114ec6",
   "metadata": {
    "execution": {
     "iopub.execute_input": "2024-05-20T18:23:49.702693Z",
     "iopub.status.busy": "2024-05-20T18:23:49.702339Z",
     "iopub.status.idle": "2024-05-20T18:23:49.707248Z",
     "shell.execute_reply": "2024-05-20T18:23:49.706267Z"
    },
    "papermill": {
     "duration": 0.014615,
     "end_time": "2024-05-20T18:23:49.709506",
     "exception": false,
     "start_time": "2024-05-20T18:23:49.694891",
     "status": "completed"
    },
    "tags": []
   },
   "outputs": [],
   "source": [
    "from sklearn.model_selection import train_test_split\n",
    "from sklearn.ensemble import RandomForestClassifier"
   ]
  },
  {
   "cell_type": "code",
   "execution_count": 10,
   "id": "57c1bfd4",
   "metadata": {
    "execution": {
     "iopub.execute_input": "2024-05-20T18:23:49.723583Z",
     "iopub.status.busy": "2024-05-20T18:23:49.722879Z",
     "iopub.status.idle": "2024-05-20T18:23:49.970949Z",
     "shell.execute_reply": "2024-05-20T18:23:49.969762Z"
    },
    "papermill": {
     "duration": 0.25799,
     "end_time": "2024-05-20T18:23:49.973702",
     "exception": false,
     "start_time": "2024-05-20T18:23:49.715712",
     "status": "completed"
    },
    "tags": []
   },
   "outputs": [
    {
     "name": "stdout",
     "output_type": "stream",
     "text": [
      "                    Feature  Importance\n",
      "12      Periventricular_MRI    0.195053\n",
      "5           Initial_Symptom    0.165321\n",
      "1                       Age    0.104371\n",
      "2                 Schooling    0.081677\n",
      "14       Infratentorial_MRI    0.079845\n",
      "7         Oligoclonal_Bands    0.059329\n",
      "4                 Varicella    0.056170\n",
      "0                    Gender    0.046048\n",
      "3             Breastfeeding    0.041795\n",
      "8                    LLSSEP    0.031507\n",
      "13             Cortical_MRI    0.031200\n",
      "9                    ULSSEP    0.026791\n",
      "6   Mono_or_Polysymptomatic    0.025394\n",
      "10                      VEP    0.025099\n",
      "15          Spinal_Cord_MRI    0.020690\n",
      "11                     BAEP    0.009711\n"
     ]
    }
   ],
   "source": [
    "# Определение признаков и целевой переменной\n",
    "X = df.drop('Group', axis=1)  # Признаки\n",
    "y = df['Group']  # Целевая переменная\n",
    "\n",
    "# Разделение данных на обучающую и тестовую выборки\n",
    "X_train, X_test, y_train, y_test = train_test_split(X, y, test_size=0.2, random_state=42)\n",
    "\n",
    "# Создание и обучение модели\n",
    "model = RandomForestClassifier()\n",
    "model.fit(X_train, y_train)\n",
    "\n",
    "# Важность факторов\n",
    "importances = model.feature_importances_\n",
    "\n",
    "# Создание DataFrame для важности факторов\n",
    "feature_importances = pd.DataFrame({\n",
    "    'Feature': X.columns,\n",
    "    'Importance': importances\n",
    "})\n",
    "\n",
    "# Сортировка факторов по важности\n",
    "feature_importances = feature_importances.sort_values(by='Importance', ascending=False)\n",
    "\n",
    "print(feature_importances)"
   ]
  },
  {
   "cell_type": "code",
   "execution_count": 11,
   "id": "d6e166aa",
   "metadata": {
    "execution": {
     "iopub.execute_input": "2024-05-20T18:23:49.987866Z",
     "iopub.status.busy": "2024-05-20T18:23:49.987506Z",
     "iopub.status.idle": "2024-05-20T18:23:49.992207Z",
     "shell.execute_reply": "2024-05-20T18:23:49.991228Z"
    },
    "papermill": {
     "duration": 0.014374,
     "end_time": "2024-05-20T18:23:49.994504",
     "exception": false,
     "start_time": "2024-05-20T18:23:49.980130",
     "status": "completed"
    },
    "tags": []
   },
   "outputs": [],
   "source": [
    "from matplotlib import colormaps"
   ]
  },
  {
   "cell_type": "code",
   "execution_count": 12,
   "id": "8c8575f2",
   "metadata": {
    "execution": {
     "iopub.execute_input": "2024-05-20T18:23:50.008567Z",
     "iopub.status.busy": "2024-05-20T18:23:50.008212Z",
     "iopub.status.idle": "2024-05-20T18:23:50.444678Z",
     "shell.execute_reply": "2024-05-20T18:23:50.443451Z"
    },
    "papermill": {
     "duration": 0.446552,
     "end_time": "2024-05-20T18:23:50.447451",
     "exception": false,
     "start_time": "2024-05-20T18:23:50.000899",
     "status": "completed"
    },
    "tags": []
   },
   "outputs": [
    {
     "data": {
      "image/png": "[encoded data removed]",
      "text/plain": [
       "<Figure size 1000x600 with 1 Axes>"
      ]
     },
     "metadata": {},
     "output_type": "display_data"
    }
   ],
   "source": [
    "\n",
    "\n",
    "# Визуализация важности признаков\n",
    "plt.figure(figsize=(10, 6))\n",
    "\n",
    "plt.barh(feature_importances['Feature'], feature_importances['Importance'])\n",
    "plt.xlabel('Importance')\n",
    "plt.ylabel('Features')\n",
    "plt.title('Feature Importance')\n",
    "plt.gca().invert_yaxis()\n",
    "plt.show()"
   ]
  },
  {
   "cell_type": "code",
   "execution_count": null,
   "id": "2270b21f",
   "metadata": {
    "papermill": {
     "duration": 0.006777,
     "end_time": "2024-05-20T18:23:50.461713",
     "exception": false,
     "start_time": "2024-05-20T18:23:50.454936",
     "status": "completed"
    },
    "tags": []
   },
   "outputs": [],
   "source": []
  },
  {
   "cell_type": "code",
   "execution_count": null,
   "id": "12a7f8bb",
   "metadata": {
    "papermill": {
     "duration": 0.006963,
     "end_time": "2024-05-20T18:23:50.476979",
     "exception": false,
     "start_time": "2024-05-20T18:23:50.470016",
     "status": "completed"
    },
    "tags": []
   },
   "outputs": [],
   "source": []
  },
  {
   "cell_type": "code",
   "execution_count": null,
   "id": "f61207bc",
   "metadata": {
    "papermill": {
     "duration": 0.007013,
     "end_time": "2024-05-20T18:23:50.491187",
     "exception": false,
     "start_time": "2024-05-20T18:23:50.484174",
     "status": "completed"
    },
    "tags": []
   },
   "outputs": [],
   "source": []
  }
 ],
 "metadata": {
  "kaggle": {
   "accelerator": "none",
   "dataSources": [
    {
     "datasetId": 3281118,
     "sourceId": 5714851,
     "sourceType": "datasetVersion"
    }
   ],
   "dockerImageVersionId": 30698,
   "isGpuEnabled": false,
   "isInternetEnabled": true,
   "language": "python",
   "sourceType": "notebook"
  },
  "kernelspec": {
   "display_name": "Python 3",
   "language": "python",
   "name": "python3"
  },
  "language_info": {
   "codemirror_mode": {
    "name": "ipython",
    "version": 3
   },
   "file_extension": ".py",
   "mimetype": "text/x-python",
   "name": "python",
   "nbconvert_exporter": "python",
   "pygments_lexer": "ipython3",
   "version": "3.10.13"
  },
  "papermill": {
   "default_parameters": {},
   "duration": 7.641489,
   "end_time": "2024-05-20T18:23:51.119381",
   "environment_variables": {},
   "exception": null,
   "input_path": "__notebook__.ipynb",
   "output_path": "__notebook__.ipynb",
   "parameters": {},
   "start_time": "2024-05-20T18:23:43.477892",
   "version": "2.5.0"
  }
 },
 "nbformat": 4,
 "nbformat_minor": 5
}
