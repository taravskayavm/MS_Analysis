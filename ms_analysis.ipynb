{
 "cells": [
  {
   "cell_type": "code",
   "execution_count": 1,
   "id": "a310664b",
   "metadata": {
    "_cell_guid": "b1076dfc-b9ad-4769-8c92-a6c4dae69d19",
    "_uuid": "8f2839f25d086af736a60e9eeb907d3b93b6e0e5",
    "execution": {
     "iopub.execute_input": "2024-05-06T13:08:03.337263Z",
     "iopub.status.busy": "2024-05-06T13:08:03.336830Z",
     "iopub.status.idle": "2024-05-06T13:08:04.235699Z",
     "shell.execute_reply": "2024-05-06T13:08:04.234359Z"
    },
    "papermill": {
     "duration": 0.906338,
     "end_time": "2024-05-06T13:08:04.238408",
     "exception": false,
     "start_time": "2024-05-06T13:08:03.332070",
     "status": "completed"
    },
    "tags": []
   },
   "outputs": [
    {
     "name": "stdout",
     "output_type": "stream",
     "text": [
      "/kaggle/input/conversion-predictors-of-cis-to-multiple-sclerosis/conversion_predictors_of_clinically_isolated_syndrome_to_multiple_sclerosis.csv\n"
     ]
    }
   ],
   "source": [
    "# This Python 3 environment comes with many helpful analytics libraries installed\n",
    "# It is defined by the kaggle/python Docker image: https://github.com/kaggle/docker-python\n",
    "# For example, here's several helpful packages to load\n",
    "\n",
    "import numpy as np # linear algebra\n",
    "import pandas as pd # data processing, CSV file I/O (e.g. pd.read_csv)\n",
    "\n",
    "# Input data files are available in the read-only \"../input/\" directory\n",
    "# For example, running this (by clicking run or pressing Shift+Enter) will list all files under the input directory\n",
    "\n",
    "import os\n",
    "for dirname, _, filenames in os.walk('/kaggle/input'):\n",
    "    for filename in filenames:\n",
    "        print(os.path.join(dirname, filename))\n",
    "\n",
    "# You can write up to 20GB to the current directory (/kaggle/working/) that gets preserved as output when you create a version using \"Save & Run All\" \n",
    "# You can also write temporary files to /kaggle/temp/, but they won't be saved outside of the current session"
   ]
  },
  {
   "cell_type": "code",
   "execution_count": 2,
   "id": "dc55840f",
   "metadata": {
    "execution": {
     "iopub.execute_input": "2024-05-06T13:08:04.246633Z",
     "iopub.status.busy": "2024-05-06T13:08:04.245702Z",
     "iopub.status.idle": "2024-05-06T13:08:05.590512Z",
     "shell.execute_reply": "2024-05-06T13:08:05.589413Z"
    },
    "papermill": {
     "duration": 1.351929,
     "end_time": "2024-05-06T13:08:05.593543",
     "exception": false,
     "start_time": "2024-05-06T13:08:04.241614",
     "status": "completed"
    },
    "tags": []
   },
   "outputs": [],
   "source": [
    "import pandas as pd\n",
    "import numpy as np\n",
    "import matplotlib.pyplot as plt\n",
    "import seaborn as sns"
   ]
  },
  {
   "cell_type": "code",
   "execution_count": 3,
   "id": "a1d5b0ec",
   "metadata": {
    "execution": {
     "iopub.execute_input": "2024-05-06T13:08:05.600980Z",
     "iopub.status.busy": "2024-05-06T13:08:05.600579Z",
     "iopub.status.idle": "2024-05-06T13:08:05.606063Z",
     "shell.execute_reply": "2024-05-06T13:08:05.604913Z"
    },
    "papermill": {
     "duration": 0.012033,
     "end_time": "2024-05-06T13:08:05.608462",
     "exception": false,
     "start_time": "2024-05-06T13:08:05.596429",
     "status": "completed"
    },
    "tags": []
   },
   "outputs": [],
   "source": [
    "plt.rcParams['axes.grid'] = True"
   ]
  },
  {
   "cell_type": "code",
   "execution_count": 4,
   "id": "c114461b",
   "metadata": {
    "execution": {
     "iopub.execute_input": "2024-05-06T13:08:05.616106Z",
     "iopub.status.busy": "2024-05-06T13:08:05.615396Z",
     "iopub.status.idle": "2024-05-06T13:08:05.663742Z",
     "shell.execute_reply": "2024-05-06T13:08:05.662477Z"
    },
    "papermill": {
     "duration": 0.055044,
     "end_time": "2024-05-06T13:08:05.666396",
     "exception": false,
     "start_time": "2024-05-06T13:08:05.611352",
     "status": "completed"
    },
    "tags": []
   },
   "outputs": [
    {
     "name": "stdout",
     "output_type": "stream",
     "text": [
      "<class 'pandas.core.frame.DataFrame'>\n",
      "RangeIndex: 273 entries, 0 to 272\n",
      "Data columns (total 20 columns):\n",
      " #   Column                   Non-Null Count  Dtype  \n",
      "---  ------                   --------------  -----  \n",
      " 0   Unnamed: 0               273 non-null    int64  \n",
      " 1   Gender                   273 non-null    int64  \n",
      " 2   Age                      273 non-null    int64  \n",
      " 3   Schooling                272 non-null    float64\n",
      " 4   Breastfeeding            273 non-null    int64  \n",
      " 5   Varicella                273 non-null    int64  \n",
      " 6   Initial_Symptom          272 non-null    float64\n",
      " 7   Mono_or_Polysymptomatic  273 non-null    int64  \n",
      " 8   Oligoclonal_Bands        273 non-null    int64  \n",
      " 9   LLSSEP                   273 non-null    int64  \n",
      " 10  ULSSEP                   273 non-null    int64  \n",
      " 11  VEP                      273 non-null    int64  \n",
      " 12  BAEP                     273 non-null    int64  \n",
      " 13  Periventricular_MRI      273 non-null    int64  \n",
      " 14  Cortical_MRI             273 non-null    int64  \n",
      " 15  Infratentorial_MRI       273 non-null    int64  \n",
      " 16  Spinal_Cord_MRI          273 non-null    int64  \n",
      " 17  Initial_EDSS             125 non-null    float64\n",
      " 18  Final_EDSS               125 non-null    float64\n",
      " 19  group                    273 non-null    int64  \n",
      "dtypes: float64(4), int64(16)\n",
      "memory usage: 42.8 KB\n"
     ]
    }
   ],
   "source": [
    "df = pd.read_csv('/kaggle/input/conversion-predictors-of-cis-to-multiple-sclerosis/conversion_predictors_of_clinically_isolated_syndrome_to_multiple_sclerosis.csv')\n",
    "df.info()"
   ]
  }
 ],
 "metadata": {
  "kaggle": {
   "accelerator": "none",
   "dataSources": [
    {
     "datasetId": 3281118,
     "sourceId": 5714851,
     "sourceType": "datasetVersion"
    }
   ],
   "dockerImageVersionId": 30698,
   "isGpuEnabled": false,
   "isInternetEnabled": true,
   "language": "python",
   "sourceType": "notebook"
  },
  "kernelspec": {
   "display_name": "Python 3",
   "language": "python",
   "name": "python3"
  },
  "language_info": {
   "codemirror_mode": {
    "name": "ipython",
    "version": 3
   },
   "file_extension": ".py",
   "mimetype": "text/x-python",
   "name": "python",
   "nbconvert_exporter": "python",
   "pygments_lexer": "ipython3",
   "version": "3.10.13"
  },
  "papermill": {
   "default_parameters": {},
   "duration": 6.136107,
   "end_time": "2024-05-06T13:08:06.291601",
   "environment_variables": {},
   "exception": null,
   "input_path": "__notebook__.ipynb",
   "output_path": "__notebook__.ipynb",
   "parameters": {},
   "start_time": "2024-05-06T13:08:00.155494",
   "version": "2.5.0"
  }
 },
 "nbformat": 4,
 "nbformat_minor": 5
}
